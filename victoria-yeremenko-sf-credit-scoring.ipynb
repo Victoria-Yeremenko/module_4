{
 "cells": [
  {
   "cell_type": "markdown",
   "metadata": {
    "papermill": {
     "duration": 0.045433,
     "end_time": "2021-01-31T23:44:56.629324",
     "exception": false,
     "start_time": "2021-01-31T23:44:56.583891",
     "status": "completed"
    },
    "tags": []
   },
   "source": [
    "## Проект 4. Прогнозирование вероятности дефолта заемщика.\n",
    "### Еременко Виктория"
   ]
  },
  {
   "cell_type": "markdown",
   "metadata": {},
   "source": [
    "### Задача: построить скоринг модель для вторичных клиентов банка, которая бы предсказывала вероятность дефолта клиента. "
   ]
  },
  {
   "cell_type": "markdown",
   "metadata": {},
   "source": [
    "### Импорт библиотек¶"
   ]
  },
  {
   "cell_type": "code",
   "execution_count": 67,
   "metadata": {
    "execution": {
     "iopub.execute_input": "2021-01-31T23:44:56.727757Z",
     "iopub.status.busy": "2021-01-31T23:44:56.724113Z",
     "iopub.status.idle": "2021-01-31T23:44:58.263928Z",
     "shell.execute_reply": "2021-01-31T23:44:58.264426Z"
    },
    "papermill": {
     "duration": 1.592227,
     "end_time": "2021-01-31T23:44:58.264760",
     "exception": false,
     "start_time": "2021-01-31T23:44:56.672533",
     "status": "completed"
    },
    "tags": []
   },
   "outputs": [],
   "source": [
    "import pandas as pd\n",
    "import numpy as np\n",
    "\n",
    "\n",
    "import matplotlib.pyplot as plt\n",
    "import seaborn as sns\n",
    "%matplotlib inline\n",
    "plt.rcParams['figure.figsize'] = (7,5)\n",
    "\n",
    "from sklearn.feature_selection import f_classif, mutual_info_classif\n",
    "from sklearn.preprocessing import LabelEncoder, OneHotEncoder,RobustScaler\n",
    "from sklearn.preprocessing import PolynomialFeatures\n",
    "\n",
    "from sklearn.model_selection import train_test_split, GridSearchCV\n",
    "from sklearn.model_selection import cross_val_score\n",
    "from sklearn.model_selection import cross_validate\n",
    "from sklearn.linear_model import LogisticRegression, LogisticRegressionCV\n",
    "\n",
    "\n",
    "from sklearn.metrics import plot_confusion_matrix\n",
    "from sklearn.metrics import auc, roc_auc_score, roc_curve, plot_roc_curve\n",
    "from sklearn.metrics import classification_report\n",
    "from sklearn.metrics import accuracy_score, precision_score, recall_score, f1_score\n",
    "\n",
    "from sklearn.pipeline import Pipeline\n",
    "\n",
    "# File system manangement\n",
    "import os\n",
    "\n",
    "# Suppress warnings \n",
    "import warnings\n",
    "warnings.filterwarnings('ignore')\n",
    "\n",
    "pd.options.mode.chained_assignment = None"
   ]
  },
  {
   "cell_type": "code",
   "execution_count": 8,
   "metadata": {
    "execution": {
     "iopub.execute_input": "2021-01-31T23:44:58.354178Z",
     "iopub.status.busy": "2021-01-31T23:44:58.353545Z",
     "iopub.status.idle": "2021-01-31T23:44:58.358762Z",
     "shell.execute_reply": "2021-01-31T23:44:58.358105Z"
    },
    "papermill": {
     "duration": 0.050427,
     "end_time": "2021-01-31T23:44:58.358982",
     "exception": false,
     "start_time": "2021-01-31T23:44:58.308555",
     "status": "completed"
    },
    "tags": []
   },
   "outputs": [],
   "source": [
    "# фиксируем RANDOM_SEED\n",
    "RANDOM_SEED = 42"
   ]
  },
  {
   "cell_type": "code",
   "execution_count": 9,
   "metadata": {
    "execution": {
     "iopub.execute_input": "2021-01-31T23:44:58.451588Z",
     "iopub.status.busy": "2021-01-31T23:44:58.450926Z",
     "iopub.status.idle": "2021-01-31T23:45:01.354082Z",
     "shell.execute_reply": "2021-01-31T23:45:01.353449Z"
    },
    "papermill": {
     "duration": 2.951558,
     "end_time": "2021-01-31T23:45:01.354257",
     "exception": false,
     "start_time": "2021-01-31T23:44:58.402699",
     "status": "completed"
    },
    "tags": []
   },
   "outputs": [],
   "source": [
    "# зафиксируем версию пакетов, чтобы эксперименты были воспроизводимы:\n",
    "!pip freeze > requirements.txt"
   ]
  },
  {
   "cell_type": "code",
   "execution_count": 10,
   "metadata": {
    "execution": {
     "iopub.execute_input": "2021-01-31T23:45:01.456898Z",
     "iopub.status.busy": "2021-01-31T23:45:01.451587Z",
     "iopub.status.idle": "2021-01-31T23:45:01.465109Z",
     "shell.execute_reply": "2021-01-31T23:45:01.464498Z"
    },
    "papermill": {
     "duration": 0.06705,
     "end_time": "2021-01-31T23:45:01.465259",
     "exception": false,
     "start_time": "2021-01-31T23:45:01.398209",
     "status": "completed"
    },
    "tags": []
   },
   "outputs": [],
   "source": [
    "# Функции для обработки данных и построения модели\n",
    "\n",
    "def get_number_of_outliers(col):\n",
    "    \"Функция, которая выводит небольшую статистику по выбросам\"\n",
    "    \n",
    "    q1 = data[col].quantile(0.25)\n",
    "    q3 = data[col].quantile(0.75)\n",
    "    IQR = q3 - q1\n",
    "    l_border = q1 - 1.5*IQR\n",
    "    u_border = q3 + 1.5*IQR\n",
    "     \n",
    "    num_of_outl = data[col][(data[col] < l_border) | (data[col] > u_border)].count()\n",
    "    print('Переменная:', col)\n",
    "    print('Границы выбросов:', l_border, u_border)\n",
    "    print('Количество выбросов', num_of_outl)\n",
    "    print('* '*20)\n",
    "    \n",
    "def plot_cv_metrics(cv_metrics):\n",
    "    \"\"\"Функция для вывода метрик кроссвалидации на графике\"\"\"\n",
    "    \n",
    "    avg_f1_train, std_f1_train = cv_metrics['train_score'].mean(), cv_metrics['train_score'].std()\n",
    "    avg_f1_valid, std_f1_valid = cv_metrics['test_score'].mean(), cv_metrics['test_score'].std()\n",
    "    print('[train] F1-score = {:.4f} +/- {:.2f}'.format(avg_f1_train, std_f1_train))\n",
    "    print('[valid] F1-score = {:.4f} +/- {:.2f}'.format(avg_f1_valid, std_f1_valid))\n",
    "    \n",
    "    plt.figure(figsize=(8, 5))\n",
    "\n",
    "    plt.plot(cv_metrics['train_score'], label='train', marker='.')\n",
    "    plt.plot(cv_metrics['test_score'], label='valid', marker='.')\n",
    "\n",
    "    plt.ylim([0., 1.]);\n",
    "    plt.xlabel('CV iteration', fontsize=15)\n",
    "    plt.ylabel('F1-score', fontsize=15)\n",
    "    plt.legend(fontsize=15)\n",
    "    \n",
    "def train_validate(X, y):\n",
    "    \"Функция для обучения модели и вывода метрик качества модели\"\n",
    "    \n",
    "    # Разбить данные на train/valid\n",
    "    X_train, X_valid, y_train, y_valid = train_test_split(X, y, test_size=0.2, shuffle=True, random_state=RANDOM_SEED)\n",
    "    \n",
    "    # Привести числовые переменные к стандартному виду\n",
    "    scaler = RobustScaler()\n",
    "    scaler.fit_transform(X_train)\n",
    "    scaler.transform(X_valid)\n",
    "    \n",
    "    # Oбучить модель\n",
    "   \n",
    "    model.fit(X_train, y_train)\n",
    "    probs = model.predict_proba(X_valid)[:,1]\n",
    "    y_pred = model.predict(X_valid)\n",
    "\n",
    "    # Посчитать метрики качества\n",
    "    plot_confusion_matrix(model, X_valid, y_valid)\n",
    "    print(\"ROC score:\" , roc_auc_score(y_valid, probs))\n",
    "    print('-' * 20)\n",
    "    report = classification_report(y_valid, model.predict(X_valid), target_names=['No default', 'Default'])\n",
    "    print('-' * 20)\n",
    "    cv_metrics = cross_validate(model, X, y, scoring = 'f1', return_train_score = True)\n",
    "    plot_cv_metrics(cv_metrics)\n",
    "    print(report)"
   ]
  },
  {
   "cell_type": "code",
   "execution_count": 11,
   "metadata": {
    "execution": {
     "iopub.execute_input": "2021-01-31T23:45:01.559272Z",
     "iopub.status.busy": "2021-01-31T23:45:01.558174Z",
     "iopub.status.idle": "2021-01-31T23:45:01.561879Z",
     "shell.execute_reply": "2021-01-31T23:45:01.561130Z"
    },
    "papermill": {
     "duration": 0.053012,
     "end_time": "2021-01-31T23:45:01.562049",
     "exception": false,
     "start_time": "2021-01-31T23:45:01.509037",
     "status": "completed"
    },
    "tags": []
   },
   "outputs": [],
   "source": [
    "# Подгружаем данные (для локальной работы)\n",
    "data = pd.read_csv(\"train.csv\")\n",
    "data_train = pd.read_csv('train.csv')\n",
    "data_test = pd.read_csv('test.csv')"
   ]
  },
  {
   "cell_type": "code",
   "execution_count": 12,
   "metadata": {
    "execution": {
     "iopub.execute_input": "2021-01-31T23:45:01.657016Z",
     "iopub.status.busy": "2021-01-31T23:45:01.656334Z",
     "iopub.status.idle": "2021-01-31T23:45:01.999403Z",
     "shell.execute_reply": "2021-01-31T23:45:01.998797Z"
    },
    "papermill": {
     "duration": 0.39409,
     "end_time": "2021-01-31T23:45:01.999579",
     "exception": false,
     "start_time": "2021-01-31T23:45:01.605489",
     "status": "completed"
    },
    "tags": []
   },
   "outputs": [],
   "source": [
    "# Подгружаем данные (для работы на Kaggle)\n",
    "#for dirname, _, filenames in os.walk('/kaggle/input'):\n",
    "    #for filename in filenames:\n",
    "        #print(os.path.join(dirname, filename))\n",
    "#PATH_to_file = '/kaggle/input/sf-dst-scoring/'\n",
    "\n",
    "#data_train = pd.read_csv(PATH_to_file+'train.csv')\n",
    "#data_test = pd.read_csv(PATH_to_file+'test.csv')"
   ]
  },
  {
   "cell_type": "code",
   "execution_count": 13,
   "metadata": {
    "execution": {
     "iopub.execute_input": "2021-01-31T23:45:02.114640Z",
     "iopub.status.busy": "2021-01-31T23:45:02.111239Z",
     "iopub.status.idle": "2021-01-31T23:45:02.177852Z",
     "shell.execute_reply": "2021-01-31T23:45:02.177121Z"
    },
    "papermill": {
     "duration": 0.126863,
     "end_time": "2021-01-31T23:45:02.178016",
     "exception": false,
     "start_time": "2021-01-31T23:45:02.051153",
     "status": "completed"
    },
    "tags": []
   },
   "outputs": [],
   "source": [
    "# Для корректной обработки признаков сливаем тест и трейн в один датасет.\n",
    "# Помечаем тренировочные и тестовые данные\n",
    "\n",
    "data_train['Train'] = 1 \n",
    "data_test['Train'] = 0 \n",
    "\n",
    "data = data_train.append(data_test, sort=False).reset_index(drop=True) "
   ]
  },
  {
   "cell_type": "code",
   "execution_count": 14,
   "metadata": {
    "execution": {
     "iopub.execute_input": "2021-01-31T23:45:02.276336Z",
     "iopub.status.busy": "2021-01-31T23:45:02.275460Z",
     "iopub.status.idle": "2021-01-31T23:45:02.304725Z",
     "shell.execute_reply": "2021-01-31T23:45:02.304140Z"
    },
    "papermill": {
     "duration": 0.081619,
     "end_time": "2021-01-31T23:45:02.304896",
     "exception": false,
     "start_time": "2021-01-31T23:45:02.223277",
     "status": "completed"
    },
    "tags": []
   },
   "outputs": [
    {
     "data": {
      "text/html": [
       "<div>\n",
       "<style scoped>\n",
       "    .dataframe tbody tr th:only-of-type {\n",
       "        vertical-align: middle;\n",
       "    }\n",
       "\n",
       "    .dataframe tbody tr th {\n",
       "        vertical-align: top;\n",
       "    }\n",
       "\n",
       "    .dataframe thead th {\n",
       "        text-align: right;\n",
       "    }\n",
       "</style>\n",
       "<table border=\"1\" class=\"dataframe\">\n",
       "  <thead>\n",
       "    <tr style=\"text-align: right;\">\n",
       "      <th></th>\n",
       "      <th>client_id</th>\n",
       "      <th>app_date</th>\n",
       "      <th>education</th>\n",
       "      <th>sex</th>\n",
       "      <th>age</th>\n",
       "      <th>car</th>\n",
       "      <th>car_type</th>\n",
       "      <th>decline_app_cnt</th>\n",
       "      <th>good_work</th>\n",
       "      <th>score_bki</th>\n",
       "      <th>bki_request_cnt</th>\n",
       "      <th>region_rating</th>\n",
       "      <th>home_address</th>\n",
       "      <th>work_address</th>\n",
       "      <th>income</th>\n",
       "      <th>sna</th>\n",
       "      <th>first_time</th>\n",
       "      <th>foreign_passport</th>\n",
       "      <th>default</th>\n",
       "      <th>Train</th>\n",
       "    </tr>\n",
       "  </thead>\n",
       "  <tbody>\n",
       "    <tr>\n",
       "      <td>0</td>\n",
       "      <td>25905</td>\n",
       "      <td>01FEB2014</td>\n",
       "      <td>SCH</td>\n",
       "      <td>M</td>\n",
       "      <td>62</td>\n",
       "      <td>Y</td>\n",
       "      <td>Y</td>\n",
       "      <td>0</td>\n",
       "      <td>0</td>\n",
       "      <td>-2.008753</td>\n",
       "      <td>1</td>\n",
       "      <td>50</td>\n",
       "      <td>1</td>\n",
       "      <td>2</td>\n",
       "      <td>18000</td>\n",
       "      <td>4</td>\n",
       "      <td>1</td>\n",
       "      <td>N</td>\n",
       "      <td>0.0</td>\n",
       "      <td>1</td>\n",
       "    </tr>\n",
       "    <tr>\n",
       "      <td>1</td>\n",
       "      <td>63161</td>\n",
       "      <td>12MAR2014</td>\n",
       "      <td>SCH</td>\n",
       "      <td>F</td>\n",
       "      <td>59</td>\n",
       "      <td>N</td>\n",
       "      <td>N</td>\n",
       "      <td>0</td>\n",
       "      <td>0</td>\n",
       "      <td>-1.532276</td>\n",
       "      <td>3</td>\n",
       "      <td>50</td>\n",
       "      <td>2</td>\n",
       "      <td>3</td>\n",
       "      <td>19000</td>\n",
       "      <td>4</td>\n",
       "      <td>1</td>\n",
       "      <td>N</td>\n",
       "      <td>0.0</td>\n",
       "      <td>1</td>\n",
       "    </tr>\n",
       "    <tr>\n",
       "      <td>2</td>\n",
       "      <td>25887</td>\n",
       "      <td>01FEB2014</td>\n",
       "      <td>SCH</td>\n",
       "      <td>M</td>\n",
       "      <td>25</td>\n",
       "      <td>Y</td>\n",
       "      <td>N</td>\n",
       "      <td>2</td>\n",
       "      <td>0</td>\n",
       "      <td>-1.408142</td>\n",
       "      <td>1</td>\n",
       "      <td>80</td>\n",
       "      <td>1</td>\n",
       "      <td>2</td>\n",
       "      <td>30000</td>\n",
       "      <td>1</td>\n",
       "      <td>4</td>\n",
       "      <td>Y</td>\n",
       "      <td>0.0</td>\n",
       "      <td>1</td>\n",
       "    </tr>\n",
       "    <tr>\n",
       "      <td>3</td>\n",
       "      <td>16222</td>\n",
       "      <td>23JAN2014</td>\n",
       "      <td>SCH</td>\n",
       "      <td>F</td>\n",
       "      <td>53</td>\n",
       "      <td>N</td>\n",
       "      <td>N</td>\n",
       "      <td>0</td>\n",
       "      <td>0</td>\n",
       "      <td>-2.057471</td>\n",
       "      <td>2</td>\n",
       "      <td>50</td>\n",
       "      <td>2</td>\n",
       "      <td>3</td>\n",
       "      <td>10000</td>\n",
       "      <td>1</td>\n",
       "      <td>3</td>\n",
       "      <td>N</td>\n",
       "      <td>0.0</td>\n",
       "      <td>1</td>\n",
       "    </tr>\n",
       "    <tr>\n",
       "      <td>4</td>\n",
       "      <td>101655</td>\n",
       "      <td>18APR2014</td>\n",
       "      <td>GRD</td>\n",
       "      <td>M</td>\n",
       "      <td>48</td>\n",
       "      <td>N</td>\n",
       "      <td>N</td>\n",
       "      <td>0</td>\n",
       "      <td>1</td>\n",
       "      <td>-1.244723</td>\n",
       "      <td>1</td>\n",
       "      <td>60</td>\n",
       "      <td>2</td>\n",
       "      <td>3</td>\n",
       "      <td>30000</td>\n",
       "      <td>1</td>\n",
       "      <td>4</td>\n",
       "      <td>Y</td>\n",
       "      <td>0.0</td>\n",
       "      <td>1</td>\n",
       "    </tr>\n",
       "  </tbody>\n",
       "</table>\n",
       "</div>"
      ],
      "text/plain": [
       "   client_id   app_date education sex  age car car_type  decline_app_cnt  \\\n",
       "0      25905  01FEB2014       SCH   M   62   Y        Y                0   \n",
       "1      63161  12MAR2014       SCH   F   59   N        N                0   \n",
       "2      25887  01FEB2014       SCH   M   25   Y        N                2   \n",
       "3      16222  23JAN2014       SCH   F   53   N        N                0   \n",
       "4     101655  18APR2014       GRD   M   48   N        N                0   \n",
       "\n",
       "   good_work  score_bki  bki_request_cnt  region_rating  home_address  \\\n",
       "0          0  -2.008753                1             50             1   \n",
       "1          0  -1.532276                3             50             2   \n",
       "2          0  -1.408142                1             80             1   \n",
       "3          0  -2.057471                2             50             2   \n",
       "4          1  -1.244723                1             60             2   \n",
       "\n",
       "   work_address  income  sna  first_time foreign_passport  default  Train  \n",
       "0             2   18000    4           1                N      0.0      1  \n",
       "1             3   19000    4           1                N      0.0      1  \n",
       "2             2   30000    1           4                Y      0.0      1  \n",
       "3             3   10000    1           3                N      0.0      1  \n",
       "4             3   30000    1           4                Y      0.0      1  "
      ]
     },
     "execution_count": 14,
     "metadata": {},
     "output_type": "execute_result"
    }
   ],
   "source": [
    "data.head()"
   ]
  },
  {
   "cell_type": "code",
   "execution_count": 15,
   "metadata": {
    "execution": {
     "iopub.execute_input": "2021-01-31T23:45:02.436141Z",
     "iopub.status.busy": "2021-01-31T23:45:02.435347Z",
     "iopub.status.idle": "2021-01-31T23:45:02.496305Z",
     "shell.execute_reply": "2021-01-31T23:45:02.495444Z"
    },
    "papermill": {
     "duration": 0.1453,
     "end_time": "2021-01-31T23:45:02.496513",
     "exception": false,
     "start_time": "2021-01-31T23:45:02.351213",
     "status": "completed"
    },
    "tags": []
   },
   "outputs": [
    {
     "name": "stdout",
     "output_type": "stream",
     "text": [
      "<class 'pandas.core.frame.DataFrame'>\n",
      "RangeIndex: 110148 entries, 0 to 110147\n",
      "Data columns (total 20 columns):\n",
      "client_id           110148 non-null int64\n",
      "app_date            110148 non-null object\n",
      "education           109670 non-null object\n",
      "sex                 110148 non-null object\n",
      "age                 110148 non-null int64\n",
      "car                 110148 non-null object\n",
      "car_type            110148 non-null object\n",
      "decline_app_cnt     110148 non-null int64\n",
      "good_work           110148 non-null int64\n",
      "score_bki           110148 non-null float64\n",
      "bki_request_cnt     110148 non-null int64\n",
      "region_rating       110148 non-null int64\n",
      "home_address        110148 non-null int64\n",
      "work_address        110148 non-null int64\n",
      "income              110148 non-null int64\n",
      "sna                 110148 non-null int64\n",
      "first_time          110148 non-null int64\n",
      "foreign_passport    110148 non-null object\n",
      "default             73799 non-null float64\n",
      "Train               110148 non-null int64\n",
      "dtypes: float64(2), int64(12), object(6)\n",
      "memory usage: 16.8+ MB\n"
     ]
    }
   ],
   "source": [
    "data.info()"
   ]
  },
  {
   "cell_type": "markdown",
   "metadata": {
    "papermill": {
     "duration": 0.045131,
     "end_time": "2021-01-31T23:45:02.587341",
     "exception": false,
     "start_time": "2021-01-31T23:45:02.542210",
     "status": "completed"
    },
    "tags": []
   },
   "source": [
    "#### Описания полей\n",
    "client_id - идентификатор клиента\n",
    "\n",
    "education - уровень образования\n",
    "\n",
    "sex - пол заемщика\n",
    "\n",
    "age - возраст заемщика\n",
    "\n",
    "car - флаг наличия автомобиля\n",
    "\n",
    "car_type - флаг автомобиля иномарки\n",
    "\n",
    "decline_app_cnt - количество отказанных прошлых заявок\n",
    "\n",
    "good_work - флаг наличия “хорошей” работы\n",
    "\n",
    "bki_request_cnt - количество запросов в БКИ\n",
    "\n",
    "home_address - категоризатор домашнего адреса\n",
    "\n",
    "work_address - категоризатор рабочего адреса\n",
    "\n",
    "income - доход заемщика\n",
    "\n",
    "foreign_passport - наличие загранпаспорта\n",
    "\n",
    "sna - связь заемщика с клиентами банка\n",
    "\n",
    "first_time - давность наличия информации о заемщике\n",
    "\n",
    "score_bki - скоринговый балл по данным из БКИ\n",
    "\n",
    "region_rating - рейтинг региона\n",
    "\n",
    "app_date - дата подачи заявки\n",
    "\n",
    "default - флаг дефолта по кредиту"
   ]
  },
  {
   "cell_type": "markdown",
   "metadata": {
    "papermill": {
     "duration": 0.044798,
     "end_time": "2021-01-31T23:45:02.677260",
     "exception": false,
     "start_time": "2021-01-31T23:45:02.632462",
     "status": "completed"
    },
    "tags": []
   },
   "source": [
    "# EDA. Подготовка данных для модели"
   ]
  },
  {
   "cell_type": "code",
   "execution_count": 16,
   "metadata": {
    "execution": {
     "iopub.execute_input": "2021-01-31T23:45:02.808052Z",
     "iopub.status.busy": "2021-01-31T23:45:02.807100Z",
     "iopub.status.idle": "2021-01-31T23:45:02.853005Z",
     "shell.execute_reply": "2021-01-31T23:45:02.852448Z"
    },
    "papermill": {
     "duration": 0.129682,
     "end_time": "2021-01-31T23:45:02.853174",
     "exception": false,
     "start_time": "2021-01-31T23:45:02.723492",
     "status": "completed"
    },
    "tags": []
   },
   "outputs": [
    {
     "data": {
      "text/plain": [
       "client_id               0\n",
       "app_date                0\n",
       "education             478\n",
       "sex                     0\n",
       "age                     0\n",
       "car                     0\n",
       "car_type                0\n",
       "decline_app_cnt         0\n",
       "good_work               0\n",
       "score_bki               0\n",
       "bki_request_cnt         0\n",
       "region_rating           0\n",
       "home_address            0\n",
       "work_address            0\n",
       "income                  0\n",
       "sna                     0\n",
       "first_time              0\n",
       "foreign_passport        0\n",
       "default             36349\n",
       "Train                   0\n",
       "dtype: int64"
      ]
     },
     "execution_count": 16,
     "metadata": {},
     "output_type": "execute_result"
    }
   ],
   "source": [
    "# Посмотрим количество пропусков. Пропуски есть только в переменной \"уровень образования\".\n",
    "data.isna().sum()"
   ]
  },
  {
   "cell_type": "code",
   "execution_count": 17,
   "metadata": {
    "execution": {
     "iopub.execute_input": "2021-01-31T23:45:02.952328Z",
     "iopub.status.busy": "2021-01-31T23:45:02.951607Z",
     "iopub.status.idle": "2021-01-31T23:45:03.116304Z",
     "shell.execute_reply": "2021-01-31T23:45:03.116764Z"
    },
    "papermill": {
     "duration": 0.217038,
     "end_time": "2021-01-31T23:45:03.117034",
     "exception": false,
     "start_time": "2021-01-31T23:45:02.899996",
     "status": "completed"
    },
    "tags": []
   },
   "outputs": [
    {
     "data": {
      "text/plain": [
       "client_id           110148\n",
       "app_date               120\n",
       "education                5\n",
       "sex                      2\n",
       "age                     52\n",
       "car                      2\n",
       "car_type                 2\n",
       "decline_app_cnt         24\n",
       "good_work                2\n",
       "score_bki           102618\n",
       "bki_request_cnt         40\n",
       "region_rating            7\n",
       "home_address             3\n",
       "work_address             3\n",
       "income                1207\n",
       "sna                      4\n",
       "first_time               4\n",
       "foreign_passport         2\n",
       "default                  2\n",
       "Train                    2\n",
       "dtype: int64"
      ]
     },
     "execution_count": 17,
     "metadata": {},
     "output_type": "execute_result"
    }
   ],
   "source": [
    "# посмотрим на количество уникальных значений для каждой переменной\n",
    "data.nunique()"
   ]
  },
  {
   "cell_type": "code",
   "execution_count": 18,
   "metadata": {
    "execution": {
     "iopub.execute_input": "2021-01-31T23:45:03.217149Z",
     "iopub.status.busy": "2021-01-31T23:45:03.216060Z",
     "iopub.status.idle": "2021-01-31T23:45:03.393078Z",
     "shell.execute_reply": "2021-01-31T23:45:03.392286Z"
    },
    "papermill": {
     "duration": 0.229923,
     "end_time": "2021-01-31T23:45:03.393254",
     "exception": false,
     "start_time": "2021-01-31T23:45:03.163331",
     "status": "completed"
    },
    "tags": []
   },
   "outputs": [
    {
     "name": "stdout",
     "output_type": "stream",
     "text": [
      "0.0    64427\n",
      "1.0     9372\n",
      "Name: default, dtype: int64\n",
      "Процент случаев положительного класса: 13.0\n"
     ]
    },
    {
     "data": {
      "image/png": "[encoded data removed]",
      "text/plain": [
       "<Figure size 504x360 with 1 Axes>"
      ]
     },
     "metadata": {
      "needs_background": "light"
     },
     "output_type": "display_data"
    }
   ],
   "source": [
    "# Что нам надо предсказать\n",
    "# Сразу видим что выборка не сбалансирована по классам\n",
    "sns.countplot(data['default'])\n",
    "print(data['default'].value_counts())\n",
    "print('Процент случаев положительного класса:', round((data['default'].sum() / data['default'].count()) * 100))"
   ]
  },
  {
   "cell_type": "code",
   "execution_count": 19,
   "metadata": {
    "execution": {
     "iopub.execute_input": "2021-01-31T23:45:03.496655Z",
     "iopub.status.busy": "2021-01-31T23:45:03.495878Z",
     "iopub.status.idle": "2021-01-31T23:45:03.499217Z",
     "shell.execute_reply": "2021-01-31T23:45:03.498572Z"
    },
    "papermill": {
     "duration": 0.057201,
     "end_time": "2021-01-31T23:45:03.499359",
     "exception": false,
     "start_time": "2021-01-31T23:45:03.442158",
     "status": "completed"
    },
    "tags": []
   },
   "outputs": [],
   "source": [
    "# Разделим переменные по типам\n",
    "\n",
    "# бинарные переменные\n",
    "bin_cols = ['sex', 'car', 'car_type', 'good_work', 'foreign_passport']\n",
    "\n",
    "# категориальные переменные\n",
    "cat_cols = ['education', 'home_address','work_address', 'region_rating', 'sna', 'first_time']\n",
    "\n",
    "# числовые переменные\n",
    "num_cols = ['age', 'score_bki','decline_app_cnt', 'bki_request_cnt', 'income']"
   ]
  },
  {
   "cell_type": "code",
   "execution_count": 20,
   "metadata": {
    "execution": {
     "iopub.execute_input": "2021-01-31T23:45:03.608447Z",
     "iopub.status.busy": "2021-01-31T23:45:03.607589Z",
     "iopub.status.idle": "2021-01-31T23:45:03.632827Z",
     "shell.execute_reply": "2021-01-31T23:45:03.633629Z"
    },
    "papermill": {
     "duration": 0.086451,
     "end_time": "2021-01-31T23:45:03.633980",
     "exception": false,
     "start_time": "2021-01-31T23:45:03.547529",
     "status": "completed"
    },
    "tags": []
   },
   "outputs": [],
   "source": [
    "# Особняком стоит переменная \"дата подачи заявки\". Нужно перевести ее в числовой формат\n",
    "data['app_date'] = pd.to_datetime(data['app_date'], format='%d%b%Y')"
   ]
  },
  {
   "cell_type": "code",
   "execution_count": 21,
   "metadata": {
    "execution": {
     "iopub.execute_input": "2021-01-31T23:45:03.736497Z",
     "iopub.status.busy": "2021-01-31T23:45:03.735700Z",
     "iopub.status.idle": "2021-01-31T23:45:03.744538Z",
     "shell.execute_reply": "2021-01-31T23:45:03.745136Z"
    },
    "papermill": {
     "duration": 0.06133,
     "end_time": "2021-01-31T23:45:03.745322",
     "exception": false,
     "start_time": "2021-01-31T23:45:03.683992",
     "status": "completed"
    },
    "tags": []
   },
   "outputs": [
    {
     "data": {
      "text/plain": [
       "(Timestamp('2014-01-01 00:00:00'), Timestamp('2014-04-30 00:00:00'))"
      ]
     },
     "execution_count": 21,
     "metadata": {},
     "output_type": "execute_result"
    }
   ],
   "source": [
    "# Все данные собраны за период с 1 января по 30 апреля 2014 года\n",
    "start = data['app_date'].min()\n",
    "end = data['app_date'].max()\n",
    "start,end"
   ]
  },
  {
   "cell_type": "code",
   "execution_count": 22,
   "metadata": {
    "execution": {
     "iopub.execute_input": "2021-01-31T23:45:03.847251Z",
     "iopub.status.busy": "2021-01-31T23:45:03.846428Z",
     "iopub.status.idle": "2021-01-31T23:45:03.855676Z",
     "shell.execute_reply": "2021-01-31T23:45:03.856233Z"
    },
    "papermill": {
     "duration": 0.062376,
     "end_time": "2021-01-31T23:45:03.856416",
     "exception": false,
     "start_time": "2021-01-31T23:45:03.794040",
     "status": "completed"
    },
    "tags": []
   },
   "outputs": [],
   "source": [
    "# Вводим новый признак - номер дня с 1 января 2014 года до обращения в банк\n",
    "data['days'] = (data['app_date'] - start).dt.days.astype('int')"
   ]
  },
  {
   "cell_type": "code",
   "execution_count": 23,
   "metadata": {
    "execution": {
     "iopub.execute_input": "2021-01-31T23:45:03.958903Z",
     "iopub.status.busy": "2021-01-31T23:45:03.958220Z",
     "iopub.status.idle": "2021-01-31T23:45:03.976218Z",
     "shell.execute_reply": "2021-01-31T23:45:03.976762Z"
    },
    "papermill": {
     "duration": 0.070634,
     "end_time": "2021-01-31T23:45:03.976998",
     "exception": false,
     "start_time": "2021-01-31T23:45:03.906364",
     "status": "completed"
    },
    "tags": []
   },
   "outputs": [],
   "source": [
    "data['month'] = data['app_date'].dt.month.astype('int')"
   ]
  },
  {
   "cell_type": "code",
   "execution_count": 24,
   "metadata": {
    "execution": {
     "iopub.execute_input": "2021-01-31T23:45:04.082807Z",
     "iopub.status.busy": "2021-01-31T23:45:04.081946Z",
     "iopub.status.idle": "2021-01-31T23:45:04.239429Z",
     "shell.execute_reply": "2021-01-31T23:45:04.240020Z"
    },
    "papermill": {
     "duration": 0.211226,
     "end_time": "2021-01-31T23:45:04.240203",
     "exception": false,
     "start_time": "2021-01-31T23:45:04.028977",
     "status": "completed"
    },
    "tags": []
   },
   "outputs": [
    {
     "data": {
      "text/plain": [
       "<matplotlib.axes._subplots.AxesSubplot at 0x1fc212f5408>"
      ]
     },
     "execution_count": 24,
     "metadata": {},
     "output_type": "execute_result"
    },
    {
     "data": {
      "image/png": "[encoded data removed]",
      "text/plain": [
       "<Figure size 504x360 with 1 Axes>"
      ]
     },
     "metadata": {
      "needs_background": "light"
     },
     "output_type": "display_data"
    }
   ],
   "source": [
    "sns.countplot(data['month'])"
   ]
  },
  {
   "cell_type": "code",
   "execution_count": 25,
   "metadata": {
    "execution": {
     "iopub.execute_input": "2021-01-31T23:45:04.344906Z",
     "iopub.status.busy": "2021-01-31T23:45:04.344068Z",
     "iopub.status.idle": "2021-01-31T23:45:04.383664Z",
     "shell.execute_reply": "2021-01-31T23:45:04.384267Z"
    },
    "papermill": {
     "duration": 0.093079,
     "end_time": "2021-01-31T23:45:04.384459",
     "exception": false,
     "start_time": "2021-01-31T23:45:04.291380",
     "status": "completed"
    },
    "tags": []
   },
   "outputs": [],
   "source": [
    "# Удаляем колонку с датами\n",
    "data.drop('app_date', axis = 1, inplace = True)"
   ]
  },
  {
   "cell_type": "code",
   "execution_count": 26,
   "metadata": {
    "execution": {
     "iopub.execute_input": "2021-01-31T23:45:04.490103Z",
     "iopub.status.busy": "2021-01-31T23:45:04.489383Z",
     "iopub.status.idle": "2021-01-31T23:45:04.491703Z",
     "shell.execute_reply": "2021-01-31T23:45:04.492223Z"
    },
    "papermill": {
     "duration": 0.057767,
     "end_time": "2021-01-31T23:45:04.492409",
     "exception": false,
     "start_time": "2021-01-31T23:45:04.434642",
     "status": "completed"
    },
    "tags": []
   },
   "outputs": [],
   "source": [
    "# Добавим новые колонки в списки числовых и категориальных переменных\n",
    "num_cols.append('days')\n",
    "cat_cols.append('month')"
   ]
  },
  {
   "cell_type": "markdown",
   "metadata": {
    "papermill": {
     "duration": 0.051781,
     "end_time": "2021-01-31T23:45:04.595129",
     "exception": false,
     "start_time": "2021-01-31T23:45:04.543348",
     "status": "completed"
    },
    "tags": []
   },
   "source": [
    "### Посмотрим на бинарные переменные"
   ]
  },
  {
   "cell_type": "code",
   "execution_count": 27,
   "metadata": {
    "execution": {
     "iopub.execute_input": "2021-01-31T23:45:04.697870Z",
     "iopub.status.busy": "2021-01-31T23:45:04.697213Z",
     "iopub.status.idle": "2021-01-31T23:45:05.818287Z",
     "shell.execute_reply": "2021-01-31T23:45:05.818735Z"
    },
    "papermill": {
     "duration": 1.173949,
     "end_time": "2021-01-31T23:45:05.818933",
     "exception": false,
     "start_time": "2021-01-31T23:45:04.644984",
     "status": "completed"
    },
    "tags": []
   },
   "outputs": [
    {
     "data": {
      "image/png": "[encoded data removed]",
      "text/plain": [
       "<Figure size 504x360 with 1 Axes>"
      ]
     },
     "metadata": {
      "needs_background": "light"
     },
     "output_type": "display_data"
    },
    {
     "data": {
      "image/png": "[encoded data removed]",
      "text/plain": [
       "<Figure size 504x360 with 1 Axes>"
      ]
     },
     "metadata": {
      "needs_background": "light"
     },
     "output_type": "display_data"
    },
    {
     "data": {
      "image/png": "[encoded data removed]",
      "text/plain": [
       "<Figure size 504x360 with 1 Axes>"
      ]
     },
     "metadata": {
      "needs_background": "light"
     },
     "output_type": "display_data"
    },
    {
     "data": {
      "image/png": "[encoded data removed]",
      "text/plain": [
       "<Figure size 504x360 with 1 Axes>"
      ]
     },
     "metadata": {
      "needs_background": "light"
     },
     "output_type": "display_data"
    },
    {
     "data": {
      "image/png": "[encoded data removed]",
      "text/plain": [
       "<Figure size 504x360 with 1 Axes>"
      ]
     },
     "metadata": {
      "needs_background": "light"
     },
     "output_type": "display_data"
    }
   ],
   "source": [
    "for i in bin_cols:\n",
    "    plt.figure()\n",
    "    sns.countplot(data[i])\n",
    "    plt.title(i)\n",
    "    plt.show()"
   ]
  },
  {
   "cell_type": "markdown",
   "metadata": {
    "papermill": {
     "duration": 0.054765,
     "end_time": "2021-01-31T23:45:05.929243",
     "exception": false,
     "start_time": "2021-01-31T23:45:05.874478",
     "status": "completed"
    },
    "tags": []
   },
   "source": [
    "Переведем переменные в числовые значения"
   ]
  },
  {
   "cell_type": "code",
   "execution_count": 28,
   "metadata": {
    "execution": {
     "iopub.execute_input": "2021-01-31T23:45:06.044908Z",
     "iopub.status.busy": "2021-01-31T23:45:06.043828Z",
     "iopub.status.idle": "2021-01-31T23:45:06.090030Z",
     "shell.execute_reply": "2021-01-31T23:45:06.090795Z"
    },
    "papermill": {
     "duration": 0.106255,
     "end_time": "2021-01-31T23:45:06.091356",
     "exception": false,
     "start_time": "2021-01-31T23:45:05.985101",
     "status": "completed"
    },
    "tags": []
   },
   "outputs": [
    {
     "name": "stdout",
     "output_type": "stream",
     "text": [
      "{0: 'F', 1: 'M'}\n"
     ]
    }
   ],
   "source": [
    "# Переменную \"пол\" обработаем отдельно и выведем кодировку значений\n",
    "label_encoder = LabelEncoder()\n",
    "\n",
    "data['sex'] = label_encoder.fit_transform(data['sex'])\n",
    "print(dict(enumerate(label_encoder.classes_)))"
   ]
  },
  {
   "cell_type": "code",
   "execution_count": 29,
   "metadata": {
    "execution": {
     "iopub.execute_input": "2021-01-31T23:45:06.208255Z",
     "iopub.status.busy": "2021-01-31T23:45:06.207423Z",
     "iopub.status.idle": "2021-01-31T23:45:06.334656Z",
     "shell.execute_reply": "2021-01-31T23:45:06.334090Z"
    },
    "papermill": {
     "duration": 0.187216,
     "end_time": "2021-01-31T23:45:06.334832",
     "exception": false,
     "start_time": "2021-01-31T23:45:06.147616",
     "status": "completed"
    },
    "tags": []
   },
   "outputs": [
    {
     "name": "stdout",
     "output_type": "stream",
     "text": [
      "{0: 'N', 1: 'Y'}\n"
     ]
    }
   ],
   "source": [
    "# Обработаем остальные бинарные переменные и выведем кодировку значений\n",
    "label_encoder_2 = LabelEncoder()\n",
    "\n",
    "for column in bin_cols:\n",
    "    data[column] = label_encoder_2.fit_transform(data[column])\n",
    "    \n",
    "print(dict(enumerate(label_encoder_2.classes_)))"
   ]
  },
  {
   "cell_type": "markdown",
   "metadata": {
    "papermill": {
     "duration": 0.053813,
     "end_time": "2021-01-31T23:45:06.443041",
     "exception": false,
     "start_time": "2021-01-31T23:45:06.389228",
     "status": "completed"
    },
    "tags": []
   },
   "source": [
    "### Посмотрим на категориальные переменные"
   ]
  },
  {
   "cell_type": "code",
   "execution_count": 30,
   "metadata": {
    "execution": {
     "iopub.execute_input": "2021-01-31T23:45:06.581495Z",
     "iopub.status.busy": "2021-01-31T23:45:06.568401Z",
     "iopub.status.idle": "2021-01-31T23:45:07.763314Z",
     "shell.execute_reply": "2021-01-31T23:45:07.762085Z"
    },
    "papermill": {
     "duration": 1.266116,
     "end_time": "2021-01-31T23:45:07.763486",
     "exception": false,
     "start_time": "2021-01-31T23:45:06.497370",
     "status": "completed"
    },
    "tags": []
   },
   "outputs": [
    {
     "data": {
      "image/png": "[encoded data removed]",
      "text/plain": [
       "<Figure size 504x360 with 1 Axes>"
      ]
     },
     "metadata": {
      "needs_background": "light"
     },
     "output_type": "display_data"
    },
    {
     "data": {
      "image/png": "[encoded data removed]",
      "text/plain": [
       "<Figure size 504x360 with 1 Axes>"
      ]
     },
     "metadata": {
      "needs_background": "light"
     },
     "output_type": "display_data"
    },
    {
     "data": {
      "image/png": "[encoded data removed]",
      "text/plain": [
       "<Figure size 504x360 with 1 Axes>"
      ]
     },
     "metadata": {
      "needs_background": "light"
     },
     "output_type": "display_data"
    },
    {
     "data": {
      "image/png": "[encoded data removed]",
      "text/plain": [
       "<Figure size 504x360 with 1 Axes>"
      ]
     },
     "metadata": {
      "needs_background": "light"
     },
     "output_type": "display_data"
    },
    {
     "data": {
      "image/png": "[encoded data removed]",
      "text/plain": [
       "<Figure size 504x360 with 1 Axes>"
      ]
     },
     "metadata": {
      "needs_background": "light"
     },
     "output_type": "display_data"
    },
    {
     "data": {
      "image/png": "[encoded data removed]",
      "text/plain": [
       "<Figure size 504x360 with 1 Axes>"
      ]
     },
     "metadata": {
      "needs_background": "light"
     },
     "output_type": "display_data"
    },
    {
     "data": {
      "image/png": "[encoded data removed]",
      "text/plain": [
       "<Figure size 504x360 with 1 Axes>"
      ]
     },
     "metadata": {
      "needs_background": "light"
     },
     "output_type": "display_data"
    }
   ],
   "source": [
    "for i in cat_cols:\n",
    "    plt.figure()\n",
    "    sns.countplot(data[i])\n",
    "    plt.title(i)\n",
    "    plt.show()"
   ]
  },
  {
   "cell_type": "markdown",
   "metadata": {
    "papermill": {
     "duration": 0.062054,
     "end_time": "2021-01-31T23:45:07.886104",
     "exception": false,
     "start_time": "2021-01-31T23:45:07.824050",
     "status": "completed"
    },
    "tags": []
   },
   "source": [
    "#### Заполнение пропущенных значений\n",
    "Пропуски (478) есть только в переменной \"уровень образования\". Т.к. при заполнении анкет на получение кредита пропуски не допускаются, рискну предположить, что пропущенные значения имеют смысл и их стоит обозначить отдельно. \n"
   ]
  },
  {
   "cell_type": "code",
   "execution_count": 31,
   "metadata": {
    "execution": {
     "iopub.execute_input": "2021-01-31T23:45:08.026712Z",
     "iopub.status.busy": "2021-01-31T23:45:08.024092Z",
     "iopub.status.idle": "2021-01-31T23:45:08.030483Z",
     "shell.execute_reply": "2021-01-31T23:45:08.029808Z"
    },
    "papermill": {
     "duration": 0.083004,
     "end_time": "2021-01-31T23:45:08.030650",
     "exception": false,
     "start_time": "2021-01-31T23:45:07.947646",
     "status": "completed"
    },
    "tags": []
   },
   "outputs": [],
   "source": [
    "# Обозначим отдельно пропущенные значения\n",
    "data['education'] = data['education'].fillna('missing')  "
   ]
  },
  {
   "cell_type": "code",
   "execution_count": 32,
   "metadata": {
    "execution": {
     "iopub.execute_input": "2021-01-31T23:45:08.194954Z",
     "iopub.status.busy": "2021-01-31T23:45:08.193688Z",
     "iopub.status.idle": "2021-01-31T23:45:08.199513Z",
     "shell.execute_reply": "2021-01-31T23:45:08.199011Z"
    },
    "papermill": {
     "duration": 0.109028,
     "end_time": "2021-01-31T23:45:08.199659",
     "exception": false,
     "start_time": "2021-01-31T23:45:08.090631",
     "status": "completed"
    },
    "tags": []
   },
   "outputs": [
    {
     "name": "stdout",
     "output_type": "stream",
     "text": [
      "{0: 'ACD', 1: 'GRD', 2: 'PGR', 3: 'SCH', 4: 'UGR', 5: 'missing'}\n"
     ]
    }
   ],
   "source": [
    "# Перекодируем данные об обучении в цифры\n",
    "le2 = LabelEncoder()\n",
    "le2.fit(data['education'])\n",
    "data['education'] = le2.transform(data['education'])\n",
    "print(dict(enumerate(le2.classes_)))"
   ]
  },
  {
   "cell_type": "code",
   "execution_count": 33,
   "metadata": {
    "execution": {
     "iopub.execute_input": "2021-01-31T23:45:08.327043Z",
     "iopub.status.busy": "2021-01-31T23:45:08.325505Z",
     "iopub.status.idle": "2021-01-31T23:45:08.511917Z",
     "shell.execute_reply": "2021-01-31T23:45:08.511356Z"
    },
    "papermill": {
     "duration": 0.252459,
     "end_time": "2021-01-31T23:45:08.512073",
     "exception": false,
     "start_time": "2021-01-31T23:45:08.259614",
     "status": "completed"
    },
    "tags": []
   },
   "outputs": [],
   "source": [
    "# Создадим фиктивные переменные на основе категориальных колонок\n",
    "ohe = OneHotEncoder(sparse = False)\n",
    "cat_cols_encoded_data = ohe.fit_transform(data[cat_cols].values)\n",
    "cat_cols_encoded_features = ohe.get_feature_names(cat_cols)\n",
    "data[cat_cols_encoded_features] = pd.DataFrame(cat_cols_encoded_data)"
   ]
  },
  {
   "cell_type": "code",
   "execution_count": 34,
   "metadata": {
    "execution": {
     "iopub.execute_input": "2021-01-31T23:45:08.639356Z",
     "iopub.status.busy": "2021-01-31T23:45:08.638044Z",
     "iopub.status.idle": "2021-01-31T23:45:08.679732Z",
     "shell.execute_reply": "2021-01-31T23:45:08.679217Z"
    },
    "papermill": {
     "duration": 0.107415,
     "end_time": "2021-01-31T23:45:08.679898",
     "exception": false,
     "start_time": "2021-01-31T23:45:08.572483",
     "status": "completed"
    },
    "tags": []
   },
   "outputs": [],
   "source": [
    "# Удалим старые колонки с категориальными переменными\n",
    "data.drop(cat_cols, axis = 1, inplace = True)"
   ]
  },
  {
   "cell_type": "code",
   "execution_count": 35,
   "metadata": {
    "execution": {
     "iopub.execute_input": "2021-01-31T23:45:08.822493Z",
     "iopub.status.busy": "2021-01-31T23:45:08.818625Z",
     "iopub.status.idle": "2021-01-31T23:45:08.841861Z",
     "shell.execute_reply": "2021-01-31T23:45:08.841218Z"
    },
    "papermill": {
     "duration": 0.100752,
     "end_time": "2021-01-31T23:45:08.842015",
     "exception": false,
     "start_time": "2021-01-31T23:45:08.741263",
     "status": "completed"
    },
    "tags": []
   },
   "outputs": [
    {
     "data": {
      "text/html": [
       "<div>\n",
       "<style scoped>\n",
       "    .dataframe tbody tr th:only-of-type {\n",
       "        vertical-align: middle;\n",
       "    }\n",
       "\n",
       "    .dataframe tbody tr th {\n",
       "        vertical-align: top;\n",
       "    }\n",
       "\n",
       "    .dataframe thead th {\n",
       "        text-align: right;\n",
       "    }\n",
       "</style>\n",
       "<table border=\"1\" class=\"dataframe\">\n",
       "  <thead>\n",
       "    <tr style=\"text-align: right;\">\n",
       "      <th></th>\n",
       "      <th>client_id</th>\n",
       "      <th>sex</th>\n",
       "      <th>age</th>\n",
       "      <th>car</th>\n",
       "      <th>car_type</th>\n",
       "      <th>decline_app_cnt</th>\n",
       "      <th>good_work</th>\n",
       "      <th>score_bki</th>\n",
       "      <th>bki_request_cnt</th>\n",
       "      <th>income</th>\n",
       "      <th>...</th>\n",
       "      <th>sna_3</th>\n",
       "      <th>sna_4</th>\n",
       "      <th>first_time_1</th>\n",
       "      <th>first_time_2</th>\n",
       "      <th>first_time_3</th>\n",
       "      <th>first_time_4</th>\n",
       "      <th>month_1</th>\n",
       "      <th>month_2</th>\n",
       "      <th>month_3</th>\n",
       "      <th>month_4</th>\n",
       "    </tr>\n",
       "  </thead>\n",
       "  <tbody>\n",
       "    <tr>\n",
       "      <td>0</td>\n",
       "      <td>25905</td>\n",
       "      <td>1</td>\n",
       "      <td>62</td>\n",
       "      <td>1</td>\n",
       "      <td>1</td>\n",
       "      <td>0</td>\n",
       "      <td>0</td>\n",
       "      <td>-2.008753</td>\n",
       "      <td>1</td>\n",
       "      <td>18000</td>\n",
       "      <td>...</td>\n",
       "      <td>0.0</td>\n",
       "      <td>1.0</td>\n",
       "      <td>1.0</td>\n",
       "      <td>0.0</td>\n",
       "      <td>0.0</td>\n",
       "      <td>0.0</td>\n",
       "      <td>0.0</td>\n",
       "      <td>1.0</td>\n",
       "      <td>0.0</td>\n",
       "      <td>0.0</td>\n",
       "    </tr>\n",
       "    <tr>\n",
       "      <td>1</td>\n",
       "      <td>63161</td>\n",
       "      <td>0</td>\n",
       "      <td>59</td>\n",
       "      <td>0</td>\n",
       "      <td>0</td>\n",
       "      <td>0</td>\n",
       "      <td>0</td>\n",
       "      <td>-1.532276</td>\n",
       "      <td>3</td>\n",
       "      <td>19000</td>\n",
       "      <td>...</td>\n",
       "      <td>0.0</td>\n",
       "      <td>1.0</td>\n",
       "      <td>1.0</td>\n",
       "      <td>0.0</td>\n",
       "      <td>0.0</td>\n",
       "      <td>0.0</td>\n",
       "      <td>0.0</td>\n",
       "      <td>0.0</td>\n",
       "      <td>1.0</td>\n",
       "      <td>0.0</td>\n",
       "    </tr>\n",
       "    <tr>\n",
       "      <td>2</td>\n",
       "      <td>25887</td>\n",
       "      <td>1</td>\n",
       "      <td>25</td>\n",
       "      <td>1</td>\n",
       "      <td>0</td>\n",
       "      <td>2</td>\n",
       "      <td>0</td>\n",
       "      <td>-1.408142</td>\n",
       "      <td>1</td>\n",
       "      <td>30000</td>\n",
       "      <td>...</td>\n",
       "      <td>0.0</td>\n",
       "      <td>0.0</td>\n",
       "      <td>0.0</td>\n",
       "      <td>0.0</td>\n",
       "      <td>0.0</td>\n",
       "      <td>1.0</td>\n",
       "      <td>0.0</td>\n",
       "      <td>1.0</td>\n",
       "      <td>0.0</td>\n",
       "      <td>0.0</td>\n",
       "    </tr>\n",
       "    <tr>\n",
       "      <td>3</td>\n",
       "      <td>16222</td>\n",
       "      <td>0</td>\n",
       "      <td>53</td>\n",
       "      <td>0</td>\n",
       "      <td>0</td>\n",
       "      <td>0</td>\n",
       "      <td>0</td>\n",
       "      <td>-2.057471</td>\n",
       "      <td>2</td>\n",
       "      <td>10000</td>\n",
       "      <td>...</td>\n",
       "      <td>0.0</td>\n",
       "      <td>0.0</td>\n",
       "      <td>0.0</td>\n",
       "      <td>0.0</td>\n",
       "      <td>1.0</td>\n",
       "      <td>0.0</td>\n",
       "      <td>1.0</td>\n",
       "      <td>0.0</td>\n",
       "      <td>0.0</td>\n",
       "      <td>0.0</td>\n",
       "    </tr>\n",
       "    <tr>\n",
       "      <td>4</td>\n",
       "      <td>101655</td>\n",
       "      <td>1</td>\n",
       "      <td>48</td>\n",
       "      <td>0</td>\n",
       "      <td>0</td>\n",
       "      <td>0</td>\n",
       "      <td>1</td>\n",
       "      <td>-1.244723</td>\n",
       "      <td>1</td>\n",
       "      <td>30000</td>\n",
       "      <td>...</td>\n",
       "      <td>0.0</td>\n",
       "      <td>0.0</td>\n",
       "      <td>0.0</td>\n",
       "      <td>0.0</td>\n",
       "      <td>0.0</td>\n",
       "      <td>1.0</td>\n",
       "      <td>0.0</td>\n",
       "      <td>0.0</td>\n",
       "      <td>0.0</td>\n",
       "      <td>1.0</td>\n",
       "    </tr>\n",
       "  </tbody>\n",
       "</table>\n",
       "<p>5 rows × 45 columns</p>\n",
       "</div>"
      ],
      "text/plain": [
       "   client_id  sex  age  car  car_type  decline_app_cnt  good_work  score_bki  \\\n",
       "0      25905    1   62    1         1                0          0  -2.008753   \n",
       "1      63161    0   59    0         0                0          0  -1.532276   \n",
       "2      25887    1   25    1         0                2          0  -1.408142   \n",
       "3      16222    0   53    0         0                0          0  -2.057471   \n",
       "4     101655    1   48    0         0                0          1  -1.244723   \n",
       "\n",
       "   bki_request_cnt  income  ...  sna_3  sna_4  first_time_1  first_time_2  \\\n",
       "0                1   18000  ...    0.0    1.0           1.0           0.0   \n",
       "1                3   19000  ...    0.0    1.0           1.0           0.0   \n",
       "2                1   30000  ...    0.0    0.0           0.0           0.0   \n",
       "3                2   10000  ...    0.0    0.0           0.0           0.0   \n",
       "4                1   30000  ...    0.0    0.0           0.0           0.0   \n",
       "\n",
       "   first_time_3  first_time_4  month_1  month_2  month_3  month_4  \n",
       "0           0.0           0.0      0.0      1.0      0.0      0.0  \n",
       "1           0.0           0.0      0.0      0.0      1.0      0.0  \n",
       "2           0.0           1.0      0.0      1.0      0.0      0.0  \n",
       "3           1.0           0.0      1.0      0.0      0.0      0.0  \n",
       "4           0.0           1.0      0.0      0.0      0.0      1.0  \n",
       "\n",
       "[5 rows x 45 columns]"
      ]
     },
     "execution_count": 35,
     "metadata": {},
     "output_type": "execute_result"
    }
   ],
   "source": [
    "# Проверяем\n",
    "data.head()"
   ]
  },
  {
   "cell_type": "code",
   "execution_count": 36,
   "metadata": {
    "execution": {
     "iopub.execute_input": "2021-01-31T23:45:08.976947Z",
     "iopub.status.busy": "2021-01-31T23:45:08.975921Z",
     "iopub.status.idle": "2021-01-31T23:45:08.979138Z",
     "shell.execute_reply": "2021-01-31T23:45:08.978489Z"
    },
    "papermill": {
     "duration": 0.070608,
     "end_time": "2021-01-31T23:45:08.979295",
     "exception": false,
     "start_time": "2021-01-31T23:45:08.908687",
     "status": "completed"
    },
    "tags": []
   },
   "outputs": [],
   "source": [
    "# Категориальные колонки превратились в бинарные. Обновим список бинарных колонок\n",
    "bin_cols = bin_cols + list(cat_cols_encoded_features)"
   ]
  },
  {
   "cell_type": "markdown",
   "metadata": {
    "papermill": {
     "duration": 0.061159,
     "end_time": "2021-01-31T23:45:09.103881",
     "exception": false,
     "start_time": "2021-01-31T23:45:09.042722",
     "status": "completed"
    },
    "tags": []
   },
   "source": [
    "### Посмотрим на числовые переменные"
   ]
  },
  {
   "cell_type": "code",
   "execution_count": 37,
   "metadata": {
    "execution": {
     "iopub.execute_input": "2021-01-31T23:45:09.253118Z",
     "iopub.status.busy": "2021-01-31T23:45:09.252101Z",
     "iopub.status.idle": "2021-01-31T23:45:12.446989Z",
     "shell.execute_reply": "2021-01-31T23:45:12.446398Z"
    },
    "papermill": {
     "duration": 3.280687,
     "end_time": "2021-01-31T23:45:12.447151",
     "exception": false,
     "start_time": "2021-01-31T23:45:09.166464",
     "status": "completed"
    },
    "tags": []
   },
   "outputs": [
    {
     "data": {
      "image/png": "[encoded data removed]",
      "text/plain": [
       "<Figure size 504x360 with 1 Axes>"
      ]
     },
     "metadata": {
      "needs_background": "light"
     },
     "output_type": "display_data"
    },
    {
     "data": {
      "image/png": "[encoded data removed]",
      "text/plain": [
       "<Figure size 504x360 with 1 Axes>"
      ]
     },
     "metadata": {
      "needs_background": "light"
     },
     "output_type": "display_data"
    },
    {
     "data": {
      "image/png": "[encoded data removed]",
      "text/plain": [
       "<Figure size 504x360 with 1 Axes>"
      ]
     },
     "metadata": {
      "needs_background": "light"
     },
     "output_type": "display_data"
    },
    {
     "data": {
      "image/png": "[encoded data removed]",
      "text/plain": [
       "<Figure size 504x360 with 1 Axes>"
      ]
     },
     "metadata": {
      "needs_background": "light"
     },
     "output_type": "display_data"
    },
    {
     "data": {
      "image/png": "[encoded data removed]",
      "text/plain": [
       "<Figure size 504x360 with 1 Axes>"
      ]
     },
     "metadata": {
      "needs_background": "light"
     },
     "output_type": "display_data"
    },
    {
     "data": {
      "image/png": "[encoded data removed]",
      "text/plain": [
       "<Figure size 504x360 with 1 Axes>"
      ]
     },
     "metadata": {
      "needs_background": "light"
     },
     "output_type": "display_data"
    }
   ],
   "source": [
    "for i in num_cols:\n",
    "    plt.figure()\n",
    "    sns.distplot(data[i])\n",
    "    plt.title(i)\n",
    "    plt.show()"
   ]
  },
  {
   "cell_type": "code",
   "execution_count": 38,
   "metadata": {
    "execution": {
     "iopub.execute_input": "2021-01-31T23:45:12.593189Z",
     "iopub.status.busy": "2021-01-31T23:45:12.592379Z",
     "iopub.status.idle": "2021-01-31T23:45:12.655222Z",
     "shell.execute_reply": "2021-01-31T23:45:12.655710Z"
    },
    "papermill": {
     "duration": 0.139436,
     "end_time": "2021-01-31T23:45:12.656015",
     "exception": false,
     "start_time": "2021-01-31T23:45:12.516579",
     "status": "completed"
    },
    "tags": []
   },
   "outputs": [
    {
     "name": "stdout",
     "output_type": "stream",
     "text": [
      "Переменная: age\n",
      "Границы выбросов: 3.0 75.0\n",
      "Количество выбросов 0\n",
      "* * * * * * * * * * * * * * * * * * * * \n",
      "Переменная: score_bki\n",
      "Границы выбросов: -3.299251946250001 -0.5290698762499992\n",
      "Количество выбросов 518\n",
      "* * * * * * * * * * * * * * * * * * * * \n",
      "Переменная: decline_app_cnt\n",
      "Границы выбросов: 0.0 0.0\n",
      "Количество выбросов 18677\n",
      "* * * * * * * * * * * * * * * * * * * * \n",
      "Переменная: bki_request_cnt\n",
      "Границы выбросов: -4.5 7.5\n",
      "Количество выбросов 2636\n",
      "* * * * * * * * * * * * * * * * * * * * \n",
      "Переменная: income\n",
      "Границы выбросов: -22000.0 90000.0\n",
      "Количество выбросов 7000\n",
      "* * * * * * * * * * * * * * * * * * * * \n",
      "Переменная: days\n",
      "Границы выбросов: -51.0 173.0\n",
      "Количество выбросов 0\n",
      "* * * * * * * * * * * * * * * * * * * * \n"
     ]
    }
   ],
   "source": [
    "# Посмотрим статистику по выбросам\n",
    "for col in num_cols:\n",
    "    get_number_of_outliers(col)"
   ]
  },
  {
   "cell_type": "markdown",
   "metadata": {
    "papermill": {
     "duration": 0.068417,
     "end_time": "2021-01-31T23:45:12.792678",
     "exception": false,
     "start_time": "2021-01-31T23:45:12.724261",
     "status": "completed"
    },
    "tags": []
   },
   "source": [
    "В переменной \"возраст\" выбросов нет, распределение немного смещенное, но в целом близкое к нормальному. \n",
    "Переменная \"скоринговый балл\" выглядит так, как будто с ней уже провели какие-то преобразования. Распределение у нее нормальное. Трогать ее не будем. "
   ]
  },
  {
   "cell_type": "code",
   "execution_count": 39,
   "metadata": {
    "execution": {
     "iopub.execute_input": "2021-01-31T23:45:12.942761Z",
     "iopub.status.busy": "2021-01-31T23:45:12.941592Z",
     "iopub.status.idle": "2021-01-31T23:45:12.975408Z",
     "shell.execute_reply": "2021-01-31T23:45:12.974667Z"
    },
    "papermill": {
     "duration": 0.113216,
     "end_time": "2021-01-31T23:45:12.975567",
     "exception": false,
     "start_time": "2021-01-31T23:45:12.862351",
     "status": "completed"
    },
    "tags": []
   },
   "outputs": [],
   "source": [
    "# Логарифмируем остальные переменные, чтобы сделать распределения более \"нормальными\"\n",
    "for col in num_cols[2:]:\n",
    "    data[col] = np.log(data[col] + 1)"
   ]
  },
  {
   "cell_type": "code",
   "execution_count": 40,
   "metadata": {
    "execution": {
     "iopub.execute_input": "2021-01-31T23:45:13.120722Z",
     "iopub.status.busy": "2021-01-31T23:45:13.119961Z",
     "iopub.status.idle": "2021-01-31T23:45:13.158319Z",
     "shell.execute_reply": "2021-01-31T23:45:13.158826Z"
    },
    "papermill": {
     "duration": 0.115313,
     "end_time": "2021-01-31T23:45:13.159027",
     "exception": false,
     "start_time": "2021-01-31T23:45:13.043714",
     "status": "completed"
    },
    "tags": []
   },
   "outputs": [
    {
     "name": "stdout",
     "output_type": "stream",
     "text": [
      "Переменная: decline_app_cnt\n",
      "Границы выбросов: 0.0 0.0\n",
      "Количество выбросов 18677\n",
      "* * * * * * * * * * * * * * * * * * * * \n",
      "Переменная: bki_request_cnt\n",
      "Границы выбросов: -2.0794415416798357 3.465735902799726\n",
      "Количество выбросов 15\n",
      "* * * * * * * * * * * * * * * * * * * * \n",
      "Переменная: income\n",
      "Границы выбросов: 8.590378193705899 12.092136480586621\n",
      "Количество выбросов 2609\n",
      "* * * * * * * * * * * * * * * * * * * * \n",
      "Переменная: days\n",
      "Границы выбросов: 2.0661868060450064 5.959983388901421\n",
      "Количество выбросов 2311\n",
      "* * * * * * * * * * * * * * * * * * * * \n"
     ]
    }
   ],
   "source": [
    "# Посмотрим на количество выбросов после логарифмирования\n",
    "for col in num_cols[2:]:\n",
    "    get_number_of_outliers(col)"
   ]
  },
  {
   "cell_type": "markdown",
   "metadata": {
    "papermill": {
     "duration": 0.068398,
     "end_time": "2021-01-31T23:45:13.296829",
     "exception": false,
     "start_time": "2021-01-31T23:45:13.228431",
     "status": "completed"
    },
    "tags": []
   },
   "source": [
    "Логарифмирование существенно сократило количество выбросов в переменных \"доход\" и \"количество обращений в БКИ\". Для переменной \"количество отклоненных заявок\" по-прежнему все значения выше нуля (18677) являются выбросами.\n",
    "\n",
    "В переменной \"количество дней с начала года до обращения в банк\" после логарифмирования появились выбросы, но решила все равно логарифмировать, тк это положительно сказалось на метриках..."
   ]
  },
  {
   "cell_type": "markdown",
   "metadata": {
    "papermill": {
     "duration": 0.069479,
     "end_time": "2021-01-31T23:45:13.436463",
     "exception": false,
     "start_time": "2021-01-31T23:45:13.366984",
     "status": "completed"
    },
    "tags": []
   },
   "source": [
    "#### Работа с выбросами\n",
    "Пока что с выбросами делать ничего не буду, тк они все явно неслучайные, такие значения действительно могут быть. "
   ]
  },
  {
   "cell_type": "code",
   "execution_count": 41,
   "metadata": {
    "execution": {
     "iopub.execute_input": "2021-01-31T23:45:13.581242Z",
     "iopub.status.busy": "2021-01-31T23:45:13.580170Z",
     "iopub.status.idle": "2021-01-31T23:45:14.435482Z",
     "shell.execute_reply": "2021-01-31T23:45:14.434650Z"
    },
    "papermill": {
     "duration": 0.930473,
     "end_time": "2021-01-31T23:45:14.435662",
     "exception": false,
     "start_time": "2021-01-31T23:45:13.505189",
     "status": "completed"
    },
    "tags": []
   },
   "outputs": [
    {
     "data": {
      "image/png": "[encoded data removed]",
      "text/plain": [
       "<Figure size 504x360 with 1 Axes>"
      ]
     },
     "metadata": {
      "needs_background": "light"
     },
     "output_type": "display_data"
    },
    {
     "data": {
      "image/png": "[encoded data removed]",
      "text/plain": [
       "<Figure size 504x360 with 1 Axes>"
      ]
     },
     "metadata": {
      "needs_background": "light"
     },
     "output_type": "display_data"
    },
    {
     "data": {
      "image/png": "[encoded data removed]",
      "text/plain": [
       "<Figure size 504x360 with 1 Axes>"
      ]
     },
     "metadata": {
      "needs_background": "light"
     },
     "output_type": "display_data"
    },
    {
     "data": {
      "image/png": "[encoded data removed]",
      "text/plain": [
       "<Figure size 504x360 with 1 Axes>"
      ]
     },
     "metadata": {
      "needs_background": "light"
     },
     "output_type": "display_data"
    },
    {
     "data": {
      "image/png": "[encoded data removed]",
      "text/plain": [
       "<Figure size 504x360 with 1 Axes>"
      ]
     },
     "metadata": {
      "needs_background": "light"
     },
     "output_type": "display_data"
    },
    {
     "data": {
      "image/png": "[encoded data removed]",
      "text/plain": [
       "<Figure size 504x360 with 1 Axes>"
      ]
     },
     "metadata": {
      "needs_background": "light"
     },
     "output_type": "display_data"
    }
   ],
   "source": [
    "# Для оценки выбросов построим боксплоты\n",
    "for i in num_cols:\n",
    "    plt.figure()\n",
    "    sns.boxplot(data[i])\n",
    "    plt.title(i)\n",
    "    plt.show()"
   ]
  },
  {
   "cell_type": "code",
   "execution_count": 42,
   "metadata": {
    "execution": {
     "iopub.execute_input": "2021-01-31T23:45:14.593167Z",
     "iopub.status.busy": "2021-01-31T23:45:14.592236Z",
     "iopub.status.idle": "2021-01-31T23:45:14.595434Z",
     "shell.execute_reply": "2021-01-31T23:45:14.595975Z"
    },
    "papermill": {
     "duration": 0.080019,
     "end_time": "2021-01-31T23:45:14.596191",
     "exception": false,
     "start_time": "2021-01-31T23:45:14.516172",
     "status": "completed"
    },
    "tags": []
   },
   "outputs": [],
   "source": [
    "#data['decline_app_cnt_outl'] = 1 * (data['decline_app_cnt'].values > 0)\n",
    "#bin_cols.append('decline_app_cnt_outl')"
   ]
  },
  {
   "cell_type": "markdown",
   "metadata": {
    "papermill": {
     "duration": 0.073342,
     "end_time": "2021-01-31T23:45:14.744161",
     "exception": false,
     "start_time": "2021-01-31T23:45:14.670819",
     "status": "completed"
    },
    "tags": []
   },
   "source": [
    "### Для оценки значимости бинарных переменных \n",
    "будем использовать функцию mutual_info_classif из библиотеки sklearn. "
   ]
  },
  {
   "cell_type": "code",
   "execution_count": 43,
   "metadata": {
    "execution": {
     "iopub.execute_input": "2021-01-31T23:45:14.899927Z",
     "iopub.status.busy": "2021-01-31T23:45:14.899125Z",
     "iopub.status.idle": "2021-01-31T23:45:15.894367Z",
     "shell.execute_reply": "2021-01-31T23:45:15.893812Z"
    },
    "papermill": {
     "duration": 1.075969,
     "end_time": "2021-01-31T23:45:15.894520",
     "exception": false,
     "start_time": "2021-01-31T23:45:14.818551",
     "status": "completed"
    },
    "tags": []
   },
   "outputs": [
    {
     "data": {
      "text/plain": [
       "<matplotlib.axes._subplots.AxesSubplot at 0x1fc227235c8>"
      ]
     },
     "execution_count": 43,
     "metadata": {},
     "output_type": "execute_result"
    },
    {
     "data": {
      "image/png": "[encoded data removed]",
      "text/plain": [
       "<Figure size 504x360 with 1 Axes>"
      ]
     },
     "metadata": {
      "needs_background": "light"
     },
     "output_type": "display_data"
    }
   ],
   "source": [
    "# оценка важности бинарных  переменных на тренировочной выборке\n",
    "imp_cat = pd.Series(mutual_info_classif(data[bin_cols][data['Train'] == 1], data['default'][data['Train'] == 1],\n",
    "                                     discrete_features =True, n_neighbors=7), index = bin_cols)\n",
    "imp_cat.sort_values(inplace = True)\n",
    "\n",
    "imp_cat.plot(kind = 'barh', title = 'Значимость бинарных переменных по Mutual information test')"
   ]
  },
  {
   "cell_type": "markdown",
   "metadata": {
    "papermill": {
     "duration": 0.076769,
     "end_time": "2021-01-31T23:45:16.047512",
     "exception": false,
     "start_time": "2021-01-31T23:45:15.970743",
     "status": "completed"
    },
    "tags": []
   },
   "source": [
    "#### Очень большой вопрос, как это интерпретировать? \n",
    "В любом случае, удаление переменных, у которых показатель близок к нулю, не привело к улучшению качества модели. Так что в дальнейшем я их не удаляла.  "
   ]
  },
  {
   "cell_type": "code",
   "execution_count": 44,
   "metadata": {
    "execution": {
     "iopub.execute_input": "2021-01-31T23:45:16.204023Z",
     "iopub.status.busy": "2021-01-31T23:45:16.203360Z",
     "iopub.status.idle": "2021-01-31T23:45:16.207049Z",
     "shell.execute_reply": "2021-01-31T23:45:16.206297Z"
    },
    "papermill": {
     "duration": 0.083057,
     "end_time": "2021-01-31T23:45:16.207193",
     "exception": false,
     "start_time": "2021-01-31T23:45:16.124136",
     "status": "completed"
    },
    "tags": []
   },
   "outputs": [],
   "source": [
    "# Удалим незначимые признаки\n",
    "#data.drop(['education_4', 'education_5', 'home_address_3'], axis = 1, inplace = True)"
   ]
  },
  {
   "cell_type": "markdown",
   "metadata": {
    "papermill": {
     "duration": 0.074479,
     "end_time": "2021-01-31T23:45:16.354887",
     "exception": false,
     "start_time": "2021-01-31T23:45:16.280408",
     "status": "completed"
    },
    "tags": []
   },
   "source": [
    "#### Оценка важности числовых переменных\n",
    "\n",
    "В основе метода оценки значимости переменных лежит однофакторный дисперсионный анализ (ANOVA). \n",
    "Основу процедуры составляет обобщение результатов \n",
    "двух выборочных t-тестов для независимых выборок (2-sample t). \n",
    "В качестве меры значимости мы будем использовать значение f-статистики. \n",
    "Чем значение статистики выше, тем меньше вероятность того, что средние значения не отличаются, \n",
    "и тем важнее данный признак для нашей линейной модели."
   ]
  },
  {
   "cell_type": "code",
   "execution_count": 45,
   "metadata": {
    "execution": {
     "iopub.execute_input": "2021-01-31T23:45:16.511512Z",
     "iopub.status.busy": "2021-01-31T23:45:16.510659Z",
     "iopub.status.idle": "2021-01-31T23:45:16.533950Z",
     "shell.execute_reply": "2021-01-31T23:45:16.534448Z"
    },
    "papermill": {
     "duration": 0.106003,
     "end_time": "2021-01-31T23:45:16.534637",
     "exception": false,
     "start_time": "2021-01-31T23:45:16.428634",
     "status": "completed"
    },
    "tags": []
   },
   "outputs": [
    {
     "data": {
      "text/plain": [
       "age                  46.166168\n",
       "days                 87.429117\n",
       "income              214.790527\n",
       "bki_request_cnt     457.591760\n",
       "decline_app_cnt    1152.937317\n",
       "score_bki          2341.599450\n",
       "dtype: float64"
      ]
     },
     "execution_count": 45,
     "metadata": {},
     "output_type": "execute_result"
    }
   ],
   "source": [
    "imp_num = pd.Series(f_classif(data[num_cols][data['Train'] == 1], data['default'][data['Train'] == 1])[0], index = num_cols)\n",
    "imp_num.sort_values(inplace = True)\n",
    "imp_num"
   ]
  },
  {
   "cell_type": "code",
   "execution_count": 46,
   "metadata": {
    "execution": {
     "iopub.execute_input": "2021-01-31T23:45:16.708032Z",
     "iopub.status.busy": "2021-01-31T23:45:16.706418Z",
     "iopub.status.idle": "2021-01-31T23:45:16.846600Z",
     "shell.execute_reply": "2021-01-31T23:45:16.847165Z"
    },
    "papermill": {
     "duration": 0.238697,
     "end_time": "2021-01-31T23:45:16.847350",
     "exception": false,
     "start_time": "2021-01-31T23:45:16.608653",
     "status": "completed"
    },
    "tags": []
   },
   "outputs": [
    {
     "data": {
      "text/plain": [
       "<matplotlib.axes._subplots.AxesSubplot at 0x1fc22558648>"
      ]
     },
     "execution_count": 46,
     "metadata": {},
     "output_type": "execute_result"
    },
    {
     "data": {
      "image/png": "[encoded data removed]",
      "text/plain": [
       "<Figure size 504x360 with 1 Axes>"
      ]
     },
     "metadata": {
      "needs_background": "light"
     },
     "output_type": "display_data"
    }
   ],
   "source": [
    "imp_num.plot(kind = 'barh', title='Значимость непрерывных переменных по ANOVA F test')"
   ]
  },
  {
   "cell_type": "markdown",
   "metadata": {
    "papermill": {
     "duration": 0.076361,
     "end_time": "2021-01-31T23:45:17.009478",
     "exception": false,
     "start_time": "2021-01-31T23:45:16.933117",
     "status": "completed"
    },
    "tags": []
   },
   "source": [
    "Самый важный признак для предсказания дефолта - кредитный рейтинг"
   ]
  },
  {
   "cell_type": "markdown",
   "metadata": {
    "papermill": {
     "duration": 0.075194,
     "end_time": "2021-01-31T23:45:17.160114",
     "exception": false,
     "start_time": "2021-01-31T23:45:17.084920",
     "status": "completed"
    },
    "tags": []
   },
   "source": [
    "### Оценка корреляций"
   ]
  },
  {
   "cell_type": "code",
   "execution_count": 47,
   "metadata": {
    "execution": {
     "iopub.execute_input": "2021-01-31T23:45:17.314733Z",
     "iopub.status.busy": "2021-01-31T23:45:17.314068Z",
     "iopub.status.idle": "2021-01-31T23:45:17.827316Z",
     "shell.execute_reply": "2021-01-31T23:45:17.826814Z"
    },
    "papermill": {
     "duration": 0.592124,
     "end_time": "2021-01-31T23:45:17.827460",
     "exception": false,
     "start_time": "2021-01-31T23:45:17.235336",
     "status": "completed"
    },
    "tags": []
   },
   "outputs": [
    {
     "data": {
      "text/plain": [
       "(6.0, 0.0)"
      ]
     },
     "execution_count": 47,
     "metadata": {},
     "output_type": "execute_result"
    },
    {
     "data": {
      "image/png": "[encoded data removed]",
      "text/plain": [
       "<Figure size 504x360 with 2 Axes>"
      ]
     },
     "metadata": {
      "needs_background": "light"
     },
     "output_type": "display_data"
    }
   ],
   "source": [
    "ax = sns.heatmap(data[num_cols].corr().abs(), vmin=0, vmax=1, annot = True)\n",
    "i, k = ax.get_ylim()\n",
    "ax.set_ylim(i+0.5, k-0.5)\n"
   ]
  },
  {
   "cell_type": "markdown",
   "metadata": {
    "papermill": {
     "duration": 0.080675,
     "end_time": "2021-01-31T23:45:17.986481",
     "exception": false,
     "start_time": "2021-01-31T23:45:17.905806",
     "status": "completed"
    },
    "tags": []
   },
   "source": [
    "Числовые признаки не скоррелированы между собой. Значит, ничего лишнего здесь нет, все подойдет для построения модели"
   ]
  },
  {
   "cell_type": "markdown",
   "metadata": {
    "papermill": {
     "duration": 0.078579,
     "end_time": "2021-01-31T23:45:18.143740",
     "exception": false,
     "start_time": "2021-01-31T23:45:18.065161",
     "status": "completed"
    },
    "tags": []
   },
   "source": [
    "Поскольку линейной зависимости между числовыми признаками нет, можно предположить нелинейную зависимость или совместное действие разных факторов. Поэтому имеет смысл сгенерировать полиномиальные признаки. \n",
    "\n",
    "Этот ход тоже, к сожалению, к улучшению модели не привел, так что не стала им пользоваться. "
   ]
  },
  {
   "cell_type": "code",
   "execution_count": 48,
   "metadata": {
    "execution": {
     "iopub.execute_input": "2021-01-31T23:45:18.305590Z",
     "iopub.status.busy": "2021-01-31T23:45:18.304959Z",
     "iopub.status.idle": "2021-01-31T23:45:18.308038Z",
     "shell.execute_reply": "2021-01-31T23:45:18.307391Z"
    },
    "papermill": {
     "duration": 0.085737,
     "end_time": "2021-01-31T23:45:18.308188",
     "exception": false,
     "start_time": "2021-01-31T23:45:18.222451",
     "status": "completed"
    },
    "tags": []
   },
   "outputs": [],
   "source": [
    "#poly = PolynomialFeatures()\n",
    "#X_poly = poly.fit_transform(data[num_cols].values)\n",
    "#poly_feature_names = poly.get_feature_names(num_cols)\n",
    "#data[poly_feature_names] = pd.DataFrame(X_poly, columns = poly_feature_names)"
   ]
  },
  {
   "cell_type": "markdown",
   "metadata": {
    "papermill": {
     "duration": 0.077072,
     "end_time": "2021-01-31T23:45:18.463461",
     "exception": false,
     "start_time": "2021-01-31T23:45:18.386389",
     "status": "completed"
    },
    "tags": []
   },
   "source": [
    "### Обучение модели. Валидация. Метрики качества. "
   ]
  },
  {
   "cell_type": "code",
   "execution_count": 49,
   "metadata": {
    "execution": {
     "iopub.execute_input": "2021-01-31T23:45:18.622903Z",
     "iopub.status.busy": "2021-01-31T23:45:18.622165Z",
     "iopub.status.idle": "2021-01-31T23:45:18.661121Z",
     "shell.execute_reply": "2021-01-31T23:45:18.661650Z"
    },
    "papermill": {
     "duration": 0.120192,
     "end_time": "2021-01-31T23:45:18.661861",
     "exception": false,
     "start_time": "2021-01-31T23:45:18.541669",
     "status": "completed"
    },
    "tags": []
   },
   "outputs": [],
   "source": [
    "# Выделим тестовую часть данных \n",
    "train_data = data.query('Train == 1').drop(['Train', 'client_id'], axis=1)\n",
    "test_data = data.query('Train == 0').drop(['Train', 'client_id'], axis=1)"
   ]
  },
  {
   "cell_type": "code",
   "execution_count": 50,
   "metadata": {
    "execution": {
     "iopub.execute_input": "2021-01-31T23:45:18.823293Z",
     "iopub.status.busy": "2021-01-31T23:45:18.822619Z",
     "iopub.status.idle": "2021-01-31T23:45:18.846442Z",
     "shell.execute_reply": "2021-01-31T23:45:18.847084Z"
    },
    "papermill": {
     "duration": 0.107283,
     "end_time": "2021-01-31T23:45:18.847266",
     "exception": false,
     "start_time": "2021-01-31T23:45:18.739983",
     "status": "completed"
    },
    "tags": []
   },
   "outputs": [
    {
     "name": "stdout",
     "output_type": "stream",
     "text": [
      "<class 'pandas.core.frame.DataFrame'>\n",
      "Int64Index: 73799 entries, 0 to 73798\n",
      "Data columns (total 43 columns):\n",
      "sex                 73799 non-null int64\n",
      "age                 73799 non-null int64\n",
      "car                 73799 non-null int32\n",
      "car_type            73799 non-null int32\n",
      "decline_app_cnt     73799 non-null float64\n",
      "good_work           73799 non-null int64\n",
      "score_bki           73799 non-null float64\n",
      "bki_request_cnt     73799 non-null float64\n",
      "income              73799 non-null float64\n",
      "foreign_passport    73799 non-null int32\n",
      "default             73799 non-null float64\n",
      "days                73799 non-null float64\n",
      "education_0         73799 non-null float64\n",
      "education_1         73799 non-null float64\n",
      "education_2         73799 non-null float64\n",
      "education_3         73799 non-null float64\n",
      "education_4         73799 non-null float64\n",
      "education_5         73799 non-null float64\n",
      "home_address_1      73799 non-null float64\n",
      "home_address_2      73799 non-null float64\n",
      "home_address_3      73799 non-null float64\n",
      "work_address_1      73799 non-null float64\n",
      "work_address_2      73799 non-null float64\n",
      "work_address_3      73799 non-null float64\n",
      "region_rating_20    73799 non-null float64\n",
      "region_rating_30    73799 non-null float64\n",
      "region_rating_40    73799 non-null float64\n",
      "region_rating_50    73799 non-null float64\n",
      "region_rating_60    73799 non-null float64\n",
      "region_rating_70    73799 non-null float64\n",
      "region_rating_80    73799 non-null float64\n",
      "sna_1               73799 non-null float64\n",
      "sna_2               73799 non-null float64\n",
      "sna_3               73799 non-null float64\n",
      "sna_4               73799 non-null float64\n",
      "first_time_1        73799 non-null float64\n",
      "first_time_2        73799 non-null float64\n",
      "first_time_3        73799 non-null float64\n",
      "first_time_4        73799 non-null float64\n",
      "month_1             73799 non-null float64\n",
      "month_2             73799 non-null float64\n",
      "month_3             73799 non-null float64\n",
      "month_4             73799 non-null float64\n",
      "dtypes: float64(37), int32(3), int64(3)\n",
      "memory usage: 23.9 MB\n"
     ]
    }
   ],
   "source": [
    "train_data.info()"
   ]
  },
  {
   "cell_type": "code",
   "execution_count": 51,
   "metadata": {
    "execution": {
     "iopub.execute_input": "2021-01-31T23:45:19.011605Z",
     "iopub.status.busy": "2021-01-31T23:45:19.010907Z",
     "iopub.status.idle": "2021-01-31T23:45:19.035965Z",
     "shell.execute_reply": "2021-01-31T23:45:19.036496Z"
    },
    "papermill": {
     "duration": 0.110095,
     "end_time": "2021-01-31T23:45:19.036686",
     "exception": false,
     "start_time": "2021-01-31T23:45:18.926591",
     "status": "completed"
    },
    "tags": []
   },
   "outputs": [],
   "source": [
    "# Выделяем матрицу признаков и целевую переменную\n",
    "X = train_data.drop(['default'], axis = 1).values\n",
    "y = train_data['default'].values"
   ]
  },
  {
   "cell_type": "code",
   "execution_count": 52,
   "metadata": {
    "execution": {
     "iopub.execute_input": "2021-01-31T23:45:19.198976Z",
     "iopub.status.busy": "2021-01-31T23:45:19.198291Z",
     "iopub.status.idle": "2021-01-31T23:45:19.203622Z",
     "shell.execute_reply": "2021-01-31T23:45:19.204113Z"
    },
    "papermill": {
     "duration": 0.088981,
     "end_time": "2021-01-31T23:45:19.204286",
     "exception": false,
     "start_time": "2021-01-31T23:45:19.115305",
     "status": "completed"
    },
    "tags": []
   },
   "outputs": [
    {
     "data": {
      "text/plain": [
       "(73799, 42)"
      ]
     },
     "execution_count": 52,
     "metadata": {},
     "output_type": "execute_result"
    }
   ],
   "source": [
    "X.shape"
   ]
  },
  {
   "cell_type": "code",
   "execution_count": 53,
   "metadata": {
    "execution": {
     "iopub.execute_input": "2021-01-31T23:45:19.367687Z",
     "iopub.status.busy": "2021-01-31T23:45:19.366695Z",
     "iopub.status.idle": "2021-01-31T23:45:19.370054Z",
     "shell.execute_reply": "2021-01-31T23:45:19.369551Z"
    },
    "papermill": {
     "duration": 0.086795,
     "end_time": "2021-01-31T23:45:19.370208",
     "exception": false,
     "start_time": "2021-01-31T23:45:19.283413",
     "status": "completed"
    },
    "tags": []
   },
   "outputs": [],
   "source": [
    "# Т.к. классы, которые нам нужно различать, несбалансированы, установим \n",
    "# для параметра class_weight значение 'balanced' (модель дает разные веса классам)\n",
    "model = LogisticRegression(class_weight = 'balanced', random_state=RANDOM_SEED )"
   ]
  },
  {
   "cell_type": "code",
   "execution_count": 54,
   "metadata": {
    "execution": {
     "iopub.execute_input": "2021-01-31T23:45:19.536263Z",
     "iopub.status.busy": "2021-01-31T23:45:19.535462Z",
     "iopub.status.idle": "2021-01-31T23:45:28.920749Z",
     "shell.execute_reply": "2021-01-31T23:45:28.920205Z"
    },
    "papermill": {
     "duration": 9.471862,
     "end_time": "2021-01-31T23:45:28.920914",
     "exception": false,
     "start_time": "2021-01-31T23:45:19.449052",
     "status": "completed"
    },
    "tags": []
   },
   "outputs": [
    {
     "name": "stdout",
     "output_type": "stream",
     "text": [
      "ROC score: 0.7442443351785131\n",
      "--------------------\n",
      "--------------------\n",
      "[train] F1-score = 0.3420 +/- 0.00\n",
      "[valid] F1-score = 0.3418 +/- 0.01\n",
      "              precision    recall  f1-score   support\n",
      "\n",
      "  No default       0.94      0.67      0.78     12933\n",
      "     Default       0.23      0.68      0.34      1827\n",
      "\n",
      "    accuracy                           0.67     14760\n",
      "   macro avg       0.58      0.68      0.56     14760\n",
      "weighted avg       0.85      0.67      0.73     14760\n",
      "\n"
     ]
    },
    {
     "data": {
      "image/png": "[encoded data removed]",
      "text/plain": [
       "<Figure size 504x360 with 2 Axes>"
      ]
     },
     "metadata": {
      "needs_background": "light"
     },
     "output_type": "display_data"
    },
    {
     "data": {
      "image/png": "[encoded data removed]",
      "text/plain": [
       "<Figure size 576x360 with 1 Axes>"
      ]
     },
     "metadata": {
      "needs_background": "light"
     },
     "output_type": "display_data"
    }
   ],
   "source": [
    "train_validate(X, y)"
   ]
  },
  {
   "cell_type": "code",
   "execution_count": 66,
   "metadata": {},
   "outputs": [
    {
     "data": {
      "text/plain": [
       "<sklearn.metrics._plot.roc_curve.RocCurveDisplay at 0x1fc22bc3848>"
      ]
     },
     "execution_count": 66,
     "metadata": {},
     "output_type": "execute_result"
    },
    {
     "data": {
      "image/png": "[encoded data removed]",
      "text/plain": [
       "<Figure size 504x360 with 1 Axes>"
      ]
     },
     "metadata": {
      "needs_background": "light"
     },
     "output_type": "display_data"
    }
   ],
   "source": [
    "plot_roc_curve(model, X_train, y_train)"
   ]
  },
  {
   "cell_type": "markdown",
   "metadata": {
    "papermill": {
     "duration": 0.082091,
     "end_time": "2021-01-31T23:45:29.246448",
     "exception": false,
     "start_time": "2021-01-31T23:45:29.164357",
     "status": "completed"
    },
    "tags": []
   },
   "source": [
    "#### Настройка гиперпараметров"
   ]
  },
  {
   "cell_type": "markdown",
   "metadata": {
    "papermill": {
     "duration": 0.08679,
     "end_time": "2021-01-31T23:45:29.417086",
     "exception": false,
     "start_time": "2021-01-31T23:45:29.330296",
     "status": "completed"
    },
    "tags": []
   },
   "source": [
    "Попробуем улучшить показатели модели.\n",
    "Поиск по сетке закомментировала, тк выполняется он довольно долго."
   ]
  },
  {
   "cell_type": "code",
   "execution_count": 55,
   "metadata": {
    "execution": {
     "iopub.execute_input": "2021-01-31T23:45:29.587262Z",
     "iopub.status.busy": "2021-01-31T23:45:29.586575Z",
     "iopub.status.idle": "2021-01-31T23:45:29.590532Z",
     "shell.execute_reply": "2021-01-31T23:45:29.589839Z"
    },
    "papermill": {
     "duration": 0.091398,
     "end_time": "2021-01-31T23:45:29.590692",
     "exception": false,
     "start_time": "2021-01-31T23:45:29.499294",
     "status": "completed"
    },
    "tags": []
   },
   "outputs": [],
   "source": [
    "# Поиск по сетке. Пока что решила ограничиться величиной штрафа. Регуляризация l2 применяется в модели по умолчанию. \n",
    "\n",
    "#X_train, X_valid, y_train, y_valid = train_test_split(X, y, test_size=0.2, shuffle=True, random_state=RANDOM_SEED)\n",
    "\n",
    "#scaler = RobustScaler()\n",
    "#model = LogisticRegression(class_weight = 'balanced', random_state=RANDOM_SEED)\n",
    "#pipe = Pipeline(steps=[('scaler', scaler), ('model', model)])\n",
    "\n",
    "\n",
    "#param_grid = {'model__C': np.logspace(-3,1,200)}\n",
    "\n",
    "\n",
    "#search = GridSearchCV (pipe, param_grid, scoring='roc_auc', n_jobs=-1, verbose = 1, cv=5)\n",
    "#search.fit(X_train, y_train)\n",
    "\n",
    "#print(search.best_params_)\n",
    "#print(search.best_score_)"
   ]
  },
  {
   "cell_type": "code",
   "execution_count": 56,
   "metadata": {
    "execution": {
     "iopub.execute_input": "2021-01-31T23:45:29.763115Z",
     "iopub.status.busy": "2021-01-31T23:45:29.762410Z",
     "iopub.status.idle": "2021-01-31T23:45:29.766404Z",
     "shell.execute_reply": "2021-01-31T23:45:29.765818Z"
    },
    "papermill": {
     "duration": 0.092046,
     "end_time": "2021-01-31T23:45:29.766548",
     "exception": false,
     "start_time": "2021-01-31T23:45:29.674502",
     "status": "completed"
    },
    "tags": []
   },
   "outputs": [],
   "source": [
    "# модель с применением лучшего параметра\n",
    "model = LogisticRegression(C=0.08119844993184012, class_weight = 'balanced', random_state=RANDOM_SEED)"
   ]
  },
  {
   "cell_type": "code",
   "execution_count": 57,
   "metadata": {
    "execution": {
     "iopub.execute_input": "2021-01-31T23:45:29.941754Z",
     "iopub.status.busy": "2021-01-31T23:45:29.939420Z",
     "iopub.status.idle": "2021-01-31T23:45:39.194722Z",
     "shell.execute_reply": "2021-01-31T23:45:39.194190Z"
    },
    "papermill": {
     "duration": 9.34435,
     "end_time": "2021-01-31T23:45:39.194893",
     "exception": false,
     "start_time": "2021-01-31T23:45:29.850543",
     "status": "completed"
    },
    "tags": []
   },
   "outputs": [
    {
     "name": "stdout",
     "output_type": "stream",
     "text": [
      "ROC score: 0.7443481500864778\n",
      "--------------------\n",
      "--------------------\n",
      "[train] F1-score = 0.3419 +/- 0.00\n",
      "[valid] F1-score = 0.3417 +/- 0.01\n",
      "              precision    recall  f1-score   support\n",
      "\n",
      "  No default       0.94      0.67      0.78     12933\n",
      "     Default       0.23      0.68      0.34      1827\n",
      "\n",
      "    accuracy                           0.67     14760\n",
      "   macro avg       0.58      0.68      0.56     14760\n",
      "weighted avg       0.85      0.67      0.73     14760\n",
      "\n"
     ]
    },
    {
     "data": {
      "image/png": "[encoded data removed]",
      "text/plain": [
       "<Figure size 504x360 with 2 Axes>"
      ]
     },
     "metadata": {
      "needs_background": "light"
     },
     "output_type": "display_data"
    },
    {
     "data": {
      "image/png": "[encoded data removed]",
      "text/plain": [
       "<Figure size 576x360 with 1 Axes>"
      ]
     },
     "metadata": {
      "needs_background": "light"
     },
     "output_type": "display_data"
    }
   ],
   "source": [
    "train_validate(X,y)"
   ]
  },
  {
   "cell_type": "markdown",
   "metadata": {
    "papermill": {
     "duration": 0.084847,
     "end_time": "2021-01-31T23:45:39.364797",
     "exception": false,
     "start_time": "2021-01-31T23:45:39.279950",
     "status": "completed"
    },
    "tags": []
   },
   "source": [
    "Видим, что roc_auc незначительно улучшился, хотя и принципиальной разницы нет. "
   ]
  },
  {
   "cell_type": "markdown",
   "metadata": {},
   "source": [
    "### Выводы"
   ]
  },
  {
   "cell_type": "markdown",
   "metadata": {},
   "source": [
    "Полученная модель справляется с задачей лучше, чем случайное угадывание, при котором roc_auc был бы равен 0.5. Признаков переобучения я тоже не вижу - f1 на обучении и валидации сильно не отличаются. Однако сам этот показатель довольно низкий, так что модель скорее недообучена. \n",
    "\n",
    "Модель может правильно предсказать класс примерно для 67-68% представителей каждого класа (recall 0,67-0,68 - одинаковый для обоих классов). Тем не менее precision гораздо выше для класса надежных заемщиков (0.94), чем ненадежных (0.23). То есть, если модель предсказала, что заемщик надежный, мы можем быть очень уверены, что это именно так и есть. Если модель предсказывает, что у заемщика высок риск дефолта, то ситуация неочевидная...."
   ]
  },
  {
   "cell_type": "markdown",
   "metadata": {
    "papermill": {
     "duration": 0.08406,
     "end_time": "2021-01-31T23:45:39.533214",
     "exception": false,
     "start_time": "2021-01-31T23:45:39.449154",
     "status": "completed"
    },
    "tags": []
   },
   "source": [
    "### Submission"
   ]
  },
  {
   "cell_type": "code",
   "execution_count": 58,
   "metadata": {
    "execution": {
     "iopub.execute_input": "2021-01-31T23:45:39.708827Z",
     "iopub.status.busy": "2021-01-31T23:45:39.708160Z",
     "iopub.status.idle": "2021-01-31T23:45:39.750312Z",
     "shell.execute_reply": "2021-01-31T23:45:39.749726Z"
    },
    "papermill": {
     "duration": 0.132767,
     "end_time": "2021-01-31T23:45:39.750457",
     "exception": false,
     "start_time": "2021-01-31T23:45:39.617690",
     "status": "completed"
    },
    "tags": []
   },
   "outputs": [],
   "source": [
    "train_data = data.query('Train == 1').drop(['Train', 'client_id'], axis=1)\n",
    "test_data = data.query('Train == 0').drop(['Train'], axis=1)"
   ]
  },
  {
   "cell_type": "code",
   "execution_count": 59,
   "metadata": {
    "execution": {
     "iopub.execute_input": "2021-01-31T23:45:39.932507Z",
     "iopub.status.busy": "2021-01-31T23:45:39.931617Z",
     "iopub.status.idle": "2021-01-31T23:45:39.953645Z",
     "shell.execute_reply": "2021-01-31T23:45:39.953017Z"
    },
    "papermill": {
     "duration": 0.119109,
     "end_time": "2021-01-31T23:45:39.953824",
     "exception": false,
     "start_time": "2021-01-31T23:45:39.834715",
     "status": "completed"
    },
    "tags": []
   },
   "outputs": [],
   "source": [
    "X_train=train_data.drop(['default'], axis=1).values\n",
    "y_train = train_data['default'].values\n",
    "X_test = test_data.drop(['default', 'client_id'], axis=1).values"
   ]
  },
  {
   "cell_type": "code",
   "execution_count": 60,
   "metadata": {
    "execution": {
     "iopub.execute_input": "2021-01-31T23:45:40.135399Z",
     "iopub.status.busy": "2021-01-31T23:45:40.134388Z",
     "iopub.status.idle": "2021-01-31T23:45:40.138910Z",
     "shell.execute_reply": "2021-01-31T23:45:40.138280Z"
    },
    "papermill": {
     "duration": 0.09807,
     "end_time": "2021-01-31T23:45:40.139053",
     "exception": false,
     "start_time": "2021-01-31T23:45:40.040983",
     "status": "completed"
    },
    "tags": []
   },
   "outputs": [
    {
     "data": {
      "text/plain": [
       "((36349, 44), (73799, 43), (73799, 42), (73799,), (36349, 42))"
      ]
     },
     "execution_count": 60,
     "metadata": {},
     "output_type": "execute_result"
    }
   ],
   "source": [
    "# проверяем\n",
    "test_data.shape, train_data.shape, X_train.shape, y_train.shape, X_test.shape"
   ]
  },
  {
   "cell_type": "code",
   "execution_count": 61,
   "metadata": {
    "execution": {
     "iopub.execute_input": "2021-01-31T23:45:40.316914Z",
     "iopub.status.busy": "2021-01-31T23:45:40.315648Z",
     "iopub.status.idle": "2021-01-31T23:45:40.428831Z",
     "shell.execute_reply": "2021-01-31T23:45:40.429292Z"
    },
    "papermill": {
     "duration": 0.20455,
     "end_time": "2021-01-31T23:45:40.429476",
     "exception": false,
     "start_time": "2021-01-31T23:45:40.224926",
     "status": "completed"
    },
    "tags": []
   },
   "outputs": [
    {
     "data": {
      "text/plain": [
       "array([[ 1.        , -0.44444444,  1.        , ...,  0.        ,\n",
       "         1.        ,  0.        ],\n",
       "       [ 0.        ,  0.11111111,  0.        , ...,  0.        ,\n",
       "         0.        ,  0.        ],\n",
       "       [ 1.        ,  0.72222222,  1.        , ...,  0.        ,\n",
       "         1.        ,  0.        ],\n",
       "       ...,\n",
       "       [ 1.        , -0.33333333,  0.        , ...,  0.        ,\n",
       "         1.        ,  0.        ],\n",
       "       [ 0.        , -0.55555556,  0.        , ...,  0.        ,\n",
       "         0.        ,  0.        ],\n",
       "       [ 1.        ,  0.05555556,  0.        , ...,  0.        ,\n",
       "         1.        ,  0.        ]])"
      ]
     },
     "execution_count": 61,
     "metadata": {},
     "output_type": "execute_result"
    }
   ],
   "source": [
    "# Стандартизуем данные\n",
    "scaler = RobustScaler() \n",
    "scaler.fit_transform(X_train)\n",
    "scaler.transform(X_test)"
   ]
  },
  {
   "cell_type": "code",
   "execution_count": 62,
   "metadata": {
    "execution": {
     "iopub.execute_input": "2021-01-31T23:45:40.605324Z",
     "iopub.status.busy": "2021-01-31T23:45:40.604353Z",
     "iopub.status.idle": "2021-01-31T23:45:42.341062Z",
     "shell.execute_reply": "2021-01-31T23:45:42.340480Z"
    },
    "papermill": {
     "duration": 1.82631,
     "end_time": "2021-01-31T23:45:42.341220",
     "exception": false,
     "start_time": "2021-01-31T23:45:40.514910",
     "status": "completed"
    },
    "tags": []
   },
   "outputs": [
    {
     "data": {
      "text/plain": [
       "LogisticRegression(C=0.08119844993184012, class_weight='balanced',\n",
       "                   random_state=42)"
      ]
     },
     "execution_count": 62,
     "metadata": {},
     "output_type": "execute_result"
    }
   ],
   "source": [
    "model = LogisticRegression(C=0.08119844993184012, class_weight = 'balanced', random_state=RANDOM_SEED)\n",
    "model.fit(X_train, y_train)"
   ]
  },
  {
   "cell_type": "code",
   "execution_count": 63,
   "metadata": {
    "execution": {
     "iopub.execute_input": "2021-01-31T23:45:42.519941Z",
     "iopub.status.busy": "2021-01-31T23:45:42.518723Z",
     "iopub.status.idle": "2021-01-31T23:45:42.663935Z",
     "shell.execute_reply": "2021-01-31T23:45:42.663056Z"
    },
    "papermill": {
     "duration": 0.236809,
     "end_time": "2021-01-31T23:45:42.664087",
     "exception": false,
     "start_time": "2021-01-31T23:45:42.427278",
     "status": "completed"
    },
    "tags": []
   },
   "outputs": [],
   "source": [
    "y_pred_prob = model.predict_proba(X_test)[:,1]\n",
    "\n",
    "\n",
    "submit = pd.DataFrame(test_data['client_id'])\n",
    "submit['default']=y_pred_prob\n",
    "submit.to_csv('submission.csv', index=False)"
   ]
  },
  {
   "cell_type": "code",
   "execution_count": null,
   "metadata": {
    "papermill": {
     "duration": 0.086553,
     "end_time": "2021-01-31T23:45:42.836752",
     "exception": false,
     "start_time": "2021-01-31T23:45:42.750199",
     "status": "completed"
    },
    "tags": []
   },
   "outputs": [],
   "source": []
  }
 ],
 "metadata": {
  "kernelspec": {
   "display_name": "Python 3",
   "language": "python",
   "name": "python3"
  },
  "language_info": {
   "codemirror_mode": {
    "name": "ipython",
    "version": 3
   },
   "file_extension": ".py",
   "mimetype": "text/x-python",
   "name": "python",
   "nbconvert_exporter": "python",
   "pygments_lexer": "ipython3",
   "version": "3.7.4"
  },
  "papermill": {
   "default_parameters": {},
   "duration": 53.890226,
   "end_time": "2021-01-31T23:45:43.650983",
   "environment_variables": {},
   "exception": null,
   "input_path": "__notebook__.ipynb",
   "output_path": "__notebook__.ipynb",
   "parameters": {},
   "start_time": "2021-01-31T23:44:49.760757",
   "version": "2.2.2"
  }
 },
 "nbformat": 4,
 "nbformat_minor": 4
}
